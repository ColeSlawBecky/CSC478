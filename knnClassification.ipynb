{
 "cells": [
  {
   "cell_type": "code",
   "execution_count": null,
   "metadata": {
    "collapsed": true
   },
   "outputs": [],
   "source": [
    "#Becky Jacob\n",
    "#CSC478 Homework 2"
   ]
  },
  {
   "cell_type": "code",
   "execution_count": null,
   "metadata": {
    "collapsed": true
   },
   "outputs": [],
   "source": [
    "import numpy as np\n",
    "import pandas as pd\n",
    "import matplotlib.pyplot as plt\n",
    "import pylab as plt\n",
    "%matplotlib inline\n",
    "import os"
   ]
  },
  {
   "cell_type": "code",
   "execution_count": null,
   "metadata": {
    "collapsed": true
   },
   "outputs": [],
   "source": [
    "#Question 1"
   ]
  },
  {
   "cell_type": "code",
   "execution_count": null,
   "metadata": {
    "collapsed": true
   },
   "outputs": [],
   "source": [
    "testClass = np.loadtxt('testClasses.txt')\n",
    "test = np.loadtxt('testMatrixModified.txt')\n",
    "trainClass = np.loadtxt('trainClasses.txt')\n",
    "train = np.loadtxt('trainMatrixModified.txt')"
   ]
  },
  {
   "cell_type": "code",
   "execution_count": null,
   "metadata": {
    "collapsed": true
   },
   "outputs": [],
   "source": [
    "#Question 1 Part A"
   ]
  },
  {
   "cell_type": "code",
   "execution_count": null,
   "metadata": {
    "collapsed": true
   },
   "outputs": [],
   "source": [
    "DTtrain = train.transpose()\n",
    "DTtest = test.transpose()"
   ]
  },
  {
   "cell_type": "code",
   "execution_count": null,
   "metadata": {
    "collapsed": true
   },
   "outputs": [],
   "source": [
    "'''The search function takes a query object (in this case a vector of words),\n",
    "and searches for the K most similar (least distant) items in the data \n",
    "(our index of documents). The \"measure\" parameter allows us to use either \n",
    "the Euclidean distance or the inverse of Cosine similarity as our ditance \n",
    "metric. The function returns the indices of the K most similar neighbors and\n",
    "a list of their distances to the query object'''"
   ]
  },
  {
   "cell_type": "code",
   "execution_count": null,
   "metadata": {
    "collapsed": true
   },
   "outputs": [],
   "source": [
    "def knn_search(x, D, K, measure):\n",
    "    \"\"\" find K nearest neighbours of data point x among D \"\"\"\n",
    "    if measure == 0:\n",
    "        # euclidean distances from the other points\n",
    "        dists = np.sqrt(((D - x)**2).sum(axis=1))\n",
    "    elif measure == 1:\n",
    "        D_norm = np.array([np.linalg.norm(D[i]) for i in range(len(D))])\n",
    "        x_norm = np.linalg.norm(x)\n",
    "        sims = np.dot(D,x)/(D_norm * x_norm)\n",
    "        dists = 1 - sims\n",
    "    idx = np.argsort(dists) # sorting\n",
    "    # return the indexes of K nearest neighbors\n",
    "    return idx[:K], sorted(dists)[:K]"
   ]
  },
  {
   "cell_type": "code",
   "execution_count": null,
   "metadata": {
    "collapsed": true
   },
   "outputs": [],
   "source": [
    "'''Since parts 1b, and 1c add on to each other. I made duplicate functions.\n",
    "One that prints the requested output, and one that does not.\n",
    "That way when the function is referenced in a later section the output\n",
    "is not overwhelming. '''"
   ]
  },
  {
   "cell_type": "code",
   "execution_count": null,
   "metadata": {
    "collapsed": true
   },
   "outputs": [],
   "source": [
    "def ULTIMATEFUNCTIONnoprint(trainM, trainL, testM, K, measure):\n",
    "    neigh_idx = []\n",
    "    distances = []\n",
    "    for i in testM:\n",
    "        neigh, dist = knn_search(i, trainM, K, measure)\n",
    "        neigh_idx.append(neigh)\n",
    "        distances.append(dist)\n",
    "    #print(distances[:5])\n",
    "    index_lst = []\n",
    "    for i in range(len(neigh_idx)):\n",
    "        for j in neigh_idx[i]:\n",
    "            index_lst.append(trainClass[j][1])\n",
    "            new = []\n",
    "            for m in range(0, len(index_lst), K):\n",
    "                new.append(index_lst[m : m+5])\n",
    "    #print(new)\n",
    "    #print (len(new))\n",
    "    testClassPred = []\n",
    "    for n in new:\n",
    "        summ = 0\n",
    "        for p in n:\n",
    "            summ = summ + int(p)\n",
    "        #print (summ)\n",
    "        if (summ/K) > .5:\n",
    "            testClassPred.append('1')\n",
    "        elif (summ/K) < .5:\n",
    "            testClassPred.append('0')\n",
    "    #for i in range(200):\n",
    "        #print('Top k: {0}, Pred: {1}'.format(new[i],testClassPred[i]))\n",
    "    return testClassPred\n",
    "    "
   ]
  },
  {
   "cell_type": "code",
   "execution_count": null,
   "metadata": {
    "collapsed": true
   },
   "outputs": [],
   "source": [
    "def ULTIMATEFUNCTION(trainM, trainL, testM, K, measure):\n",
    "    neigh_idx = []\n",
    "    distances = []\n",
    "    for i in testM:\n",
    "        neigh, dist = knn_search(i, trainM, K, measure)\n",
    "        neigh_idx.append(neigh)\n",
    "        distances.append(dist)\n",
    "    #print(distances[:5])\n",
    "    index_lst = []\n",
    "    for i in range(len(neigh_idx)):\n",
    "        for j in neigh_idx[i]:\n",
    "            index_lst.append(trainClass[j][1])\n",
    "            new = []\n",
    "            for m in range(0, len(index_lst), K):\n",
    "                new.append(index_lst[m : m+5])\n",
    "    #print(new)\n",
    "    #print (len(new))\n",
    "    testClassPred = []\n",
    "    for n in new:\n",
    "        summ = 0\n",
    "        for p in n:\n",
    "            summ = summ + int(p)\n",
    "        #print (summ)\n",
    "        if (summ/K) > .5:\n",
    "            testClassPred.append('1')\n",
    "        elif (summ/K) < .5:\n",
    "            testClassPred.append('0')\n",
    "    for i in range(200):\n",
    "        print('Top k: {0}, Pred: {1}'.format(new[i],testClassPred[i]))\n",
    "    return testClassPred\n",
    "    "
   ]
  },
  {
   "cell_type": "code",
   "execution_count": null,
   "metadata": {
    "collapsed": true
   },
   "outputs": [],
   "source": [
    "#Cosine similarity\n",
    "testClassPred = ULTIMATEFUNCTION(DTtrain, trainClass, DTtest, 5, 1)"
   ]
  },
  {
   "cell_type": "code",
   "execution_count": null,
   "metadata": {
    "collapsed": true,
    "scrolled": true
   },
   "outputs": [],
   "source": [
    "len(testClassPred)"
   ]
  },
  {
   "cell_type": "code",
   "execution_count": null,
   "metadata": {
    "collapsed": true
   },
   "outputs": [],
   "source": [
    "#Euclidean similarity\n",
    "testClassPred = ULTIMATEFUNCTION(DTtrain, trainClass, DTtest, 5, 0)"
   ]
  },
  {
   "cell_type": "code",
   "execution_count": null,
   "metadata": {
    "collapsed": true,
    "scrolled": true
   },
   "outputs": [],
   "source": [
    "len(testClassPred)"
   ]
  },
  {
   "cell_type": "code",
   "execution_count": null,
   "metadata": {
    "collapsed": true
   },
   "outputs": [],
   "source": [
    "#Question 1 Part b"
   ]
  },
  {
   "cell_type": "code",
   "execution_count": null,
   "metadata": {
    "collapsed": true
   },
   "outputs": [],
   "source": [
    "def Accuracy(trainM, trainL, testM, testL, K, measure):\n",
    "    testClassPred = ULTIMATEFUNCTIONnoprint(trainM, trainL, testM, K, measure)\n",
    "    for i in range(len(testClassPred)):\n",
    "        testClassPred[i] = int(testClassPred[i])\n",
    "    total = 0\n",
    "    correct = 0\n",
    "    wrong = 0\n",
    "    for i in range(len(testClassPred)):\n",
    "        total += 1\n",
    "        if testClassPred[i] == testL[i][1]:\n",
    "            correct += 1\n",
    "        elif testClassPred[i] != testL[i][1]:\n",
    "            wrong += 1\n",
    "    print('Accuracy is {0}'.format(correct/total))\n",
    "    return (correct/total)"
   ]
  },
  {
   "cell_type": "code",
   "execution_count": null,
   "metadata": {
    "collapsed": true
   },
   "outputs": [],
   "source": [
    "def Accuracynoprint(trainM, trainL, testM, testL, K, measure):\n",
    "    testClassPred = ULTIMATEFUNCTIONnoprint(trainM, trainL, testM, K, measure)\n",
    "    for i in range(len(testClassPred)):\n",
    "        testClassPred[i] = int(testClassPred[i])\n",
    "    total = 0\n",
    "    correct = 0\n",
    "    wrong = 0\n",
    "    for i in range(len(testClassPred)):\n",
    "        total += 1\n",
    "        if testClassPred[i] == testL[i][1]:\n",
    "            correct += 1\n",
    "        elif testClassPred[i] != testL[i][1]:\n",
    "            wrong += 1\n",
    "    return (correct/total)"
   ]
  },
  {
   "cell_type": "code",
   "execution_count": null,
   "metadata": {
    "collapsed": true
   },
   "outputs": [],
   "source": [
    "#Cosine similarity\n",
    "Accuracy(DTtrain, trainClass, DTtest, testClass, 5, 1)"
   ]
  },
  {
   "cell_type": "code",
   "execution_count": null,
   "metadata": {
    "collapsed": true
   },
   "outputs": [],
   "source": [
    "#Euclidean\n",
    "Accuracy(DTtrain, trainClass, DTtest, testClass, 5, 0)"
   ]
  },
  {
   "cell_type": "code",
   "execution_count": null,
   "metadata": {
    "collapsed": true
   },
   "outputs": [],
   "source": [
    "#Question 1 Part c"
   ]
  },
  {
   "cell_type": "code",
   "execution_count": null,
   "metadata": {
    "collapsed": true
   },
   "outputs": [],
   "source": [
    "def rangeK(low,high,trainM, trainL, testM, testL, measure):\n",
    "    for i in range(low,(high+1)):\n",
    "        acc = Accuracynoprint(trainM, trainL, testM, testL, i, measure)\n",
    "        print('For k= {0}, Accuracy is {1}'.format(i,acc))\n",
    "        "
   ]
  },
  {
   "cell_type": "code",
   "execution_count": null,
   "metadata": {
    "collapsed": true
   },
   "outputs": [],
   "source": [
    "#Cosine similarity\n",
    "rangeK(1,20,DTtrain, trainClass, DTtest, testClass, 1)"
   ]
  },
  {
   "cell_type": "code",
   "execution_count": null,
   "metadata": {
    "collapsed": true
   },
   "outputs": [],
   "source": [
    "#Euclidean\n",
    "rangeK(1,20,DTtrain, trainClass, DTtest, testClass, 0)"
   ]
  },
  {
   "cell_type": "code",
   "execution_count": null,
   "metadata": {
    "collapsed": true
   },
   "outputs": [],
   "source": [
    "#Question 1 Part d"
   ]
  },
  {
   "cell_type": "code",
   "execution_count": null,
   "metadata": {
    "collapsed": true
   },
   "outputs": [],
   "source": [
    "#Training Set"
   ]
  },
  {
   "cell_type": "code",
   "execution_count": null,
   "metadata": {
    "collapsed": true
   },
   "outputs": [],
   "source": [
    "DFtrain = np.array([(train!=0).sum(1)]).T\n",
    "DFtrain"
   ]
  },
  {
   "cell_type": "code",
   "execution_count": null,
   "metadata": {
    "collapsed": true
   },
   "outputs": [],
   "source": [
    "NDocsTrain = DTtrain.shape[0]\n",
    "NMatrixTrain=np.ones(np.shape(train), dtype=float)*NDocsTrain\n",
    "np.set_printoptions(precision=2,suppress=True,linewidth=120)\n",
    "print (NMatrixTrain)"
   ]
  },
  {
   "cell_type": "code",
   "execution_count": null,
   "metadata": {
    "collapsed": true
   },
   "outputs": [],
   "source": [
    "IDFtrain = np.log2(np.divide(NMatrixTrain, DFtrain))\n",
    "IDFtrain"
   ]
  },
  {
   "cell_type": "code",
   "execution_count": null,
   "metadata": {
    "collapsed": true
   },
   "outputs": [],
   "source": [
    "train_tfidf = train * IDFtrain"
   ]
  },
  {
   "cell_type": "code",
   "execution_count": null,
   "metadata": {
    "collapsed": true
   },
   "outputs": [],
   "source": [
    "pd.set_option(\"display.precision\", 2)\n",
    "\n",
    "train_tfidf"
   ]
  },
  {
   "cell_type": "code",
   "execution_count": null,
   "metadata": {
    "collapsed": true
   },
   "outputs": [],
   "source": [
    "#Test Set"
   ]
  },
  {
   "cell_type": "code",
   "execution_count": null,
   "metadata": {
    "collapsed": true
   },
   "outputs": [],
   "source": [
    "DFtest = np.array([(test!=0).sum(1)]).T\n",
    "DFtest"
   ]
  },
  {
   "cell_type": "code",
   "execution_count": null,
   "metadata": {
    "collapsed": true
   },
   "outputs": [],
   "source": [
    "NDocsTest = DTtest.shape[0]\n",
    "NMatrixTest=np.ones(np.shape(test), dtype=float)*NDocsTest\n",
    "np.set_printoptions(precision=2,suppress=True,linewidth=120)\n",
    "print (NMatrixTest)"
   ]
  },
  {
   "cell_type": "code",
   "execution_count": null,
   "metadata": {
    "collapsed": true
   },
   "outputs": [],
   "source": [
    "IDFtest = np.log2(np.divide(NMatrixTest, DFtest))\n",
    "IDFtest"
   ]
  },
  {
   "cell_type": "code",
   "execution_count": null,
   "metadata": {
    "collapsed": true
   },
   "outputs": [],
   "source": [
    "test_tfidf = test * IDFtest"
   ]
  },
  {
   "cell_type": "code",
   "execution_count": null,
   "metadata": {
    "collapsed": true
   },
   "outputs": [],
   "source": [
    "pd.set_option(\"display.precision\", 2)\n",
    "\n",
    "test_tfidf"
   ]
  },
  {
   "cell_type": "code",
   "execution_count": null,
   "metadata": {
    "collapsed": true
   },
   "outputs": [],
   "source": [
    "train_tfidf_T = train_tfidf.transpose()\n",
    "test_tfidf_T = test_tfidf.transpose()"
   ]
  },
  {
   "cell_type": "code",
   "execution_count": null,
   "metadata": {
    "collapsed": true
   },
   "outputs": [],
   "source": [
    "#Cosine similarity\n",
    "try:\n",
    "    rangeK(1,20,train_tfidf_T, trainClass, test_tfidf_T, testClass, 1)\n",
    "except:\n",
    "    pass"
   ]
  },
  {
   "cell_type": "code",
   "execution_count": null,
   "metadata": {
    "collapsed": true
   },
   "outputs": [],
   "source": [
    "#Euclidian\n",
    "try:\n",
    "    rangeK(1,20,train_tfidf_T, trainClass, test_tfidf_T, testClass, 0)\n",
    "except:\n",
    "    pass"
   ]
  },
  {
   "cell_type": "code",
   "execution_count": null,
   "metadata": {
    "collapsed": true
   },
   "outputs": [],
   "source": [
    "#Question 2 Part a"
   ]
  },
  {
   "cell_type": "code",
   "execution_count": null,
   "metadata": {
    "collapsed": true
   },
   "outputs": [],
   "source": [
    "'''Load and preprocess data.\n",
    "Separate 'pep'  from portion of data to be used for training/testing.\n",
    "Convert selected dataset into standard spreadsheet format (all numeric).\n",
    "Split transformed data into train/test using 80/20 randomized split.'''"
   ]
  },
  {
   "cell_type": "code",
   "execution_count": null,
   "metadata": {
    "collapsed": true
   },
   "outputs": [],
   "source": [
    "bank_ = pd.read_csv('bank_data.csv', index_col=0, sep=',')\n",
    "bank_.head()"
   ]
  },
  {
   "cell_type": "code",
   "execution_count": null,
   "metadata": {
    "collapsed": true
   },
   "outputs": [],
   "source": [
    "bank_records = bank_[['age','income', 'children', 'gender','region','married','car','savings_acct','current_acct','mortgage']]\n",
    "bank_records.head()"
   ]
  },
  {
   "cell_type": "code",
   "execution_count": null,
   "metadata": {
    "collapsed": true
   },
   "outputs": [],
   "source": [
    "bank_target = bank_.pep\n",
    "bank_target.head()"
   ]
  },
  {
   "cell_type": "code",
   "execution_count": null,
   "metadata": {
    "collapsed": true
   },
   "outputs": [],
   "source": [
    "bank_matrix = pd.get_dummies(bank_records[['age','income', 'children', 'gender','region','married','car','savings_acct','current_acct','mortgage']])\n",
    "bank_records.head(10)"
   ]
  },
  {
   "cell_type": "code",
   "execution_count": null,
   "metadata": {
    "collapsed": true
   },
   "outputs": [],
   "source": [
    "from sklearn.cross_validation import train_test_split\n",
    "bank_train, bank_test, bank_target_train, bank_target_test = train_test_split(bank_matrix, bank_target, test_size=0.2, random_state=33)\n",
    "\n",
    "np.set_printoptions(precision=4, linewidth=80, suppress=True)\n",
    "print (bank_test.shape)\n",
    "print (bank_test[0:5])\n",
    "print (bank_train.shape)\n",
    "print (bank_train[0:5])"
   ]
  },
  {
   "cell_type": "code",
   "execution_count": null,
   "metadata": {
    "collapsed": true
   },
   "outputs": [],
   "source": []
  },
  {
   "cell_type": "code",
   "execution_count": null,
   "metadata": {
    "collapsed": true
   },
   "outputs": [],
   "source": [
    "#Question 2 Part b"
   ]
  },
  {
   "cell_type": "code",
   "execution_count": null,
   "metadata": {
    "collapsed": true
   },
   "outputs": [],
   "source": [
    "'''Run sklearn's knn classifier on test set. First normalize data on 0 to 1.\n",
    "Generate confusion matrix, visualized with  matplotlib.\n",
    "Generate classification report, and compute average accuracy score.\n",
    "Experiment w/different ks and weight parameter to improve accuracy.\n",
    "Provide discussion of what worked best.'''"
   ]
  },
  {
   "cell_type": "code",
   "execution_count": null,
   "metadata": {
    "collapsed": true
   },
   "outputs": [],
   "source": [
    "from sklearn import preprocessing"
   ]
  },
  {
   "cell_type": "code",
   "execution_count": null,
   "metadata": {
    "collapsed": true
   },
   "outputs": [],
   "source": [
    "min_max_scaler = preprocessing.MinMaxScaler().fit(bank_train)\n",
    "bank_train_norm = min_max_scaler.transform(bank_train)\n",
    "bank_test_norm = min_max_scaler.transform(bank_test)"
   ]
  },
  {
   "cell_type": "code",
   "execution_count": null,
   "metadata": {
    "collapsed": true
   },
   "outputs": [],
   "source": [
    "np.set_printoptions(precision=2, linewidth=100)\n",
    "bank_train_norm[0:5]"
   ]
  },
  {
   "cell_type": "code",
   "execution_count": null,
   "metadata": {
    "collapsed": true
   },
   "outputs": [],
   "source": [
    "##bank_target_train = np.array(bank_target_train)\n",
    "##bank_target_test = np.array(bank_target_test)"
   ]
  },
  {
   "cell_type": "code",
   "execution_count": null,
   "metadata": {
    "collapsed": true
   },
   "outputs": [],
   "source": [
    "from sklearn import neighbors, tree, naive_bayes\n",
    "from sklearn.metrics import classification_report, confusion_matrix"
   ]
  },
  {
   "cell_type": "code",
   "execution_count": null,
   "metadata": {
    "collapsed": true
   },
   "outputs": [],
   "source": [
    "n_neighbors = 5\n",
    "knnclf = neighbors.KNeighborsClassifier(n_neighbors, weights='uniform')\n",
    "knnclf.fit(bank_train_norm, bank_target_train)\n",
    "#Tried to run this with 2 - 5 neighbors, and with a weight of distance and uniform"
   ]
  },
  {
   "cell_type": "code",
   "execution_count": null,
   "metadata": {
    "collapsed": true
   },
   "outputs": [],
   "source": [
    "knnpreds_test = knnclf.predict(bank_test_norm)\n",
    "print (knnpreds_test)"
   ]
  },
  {
   "cell_type": "code",
   "execution_count": null,
   "metadata": {
    "collapsed": true
   },
   "outputs": [],
   "source": [
    "knnClfReport = classification_report(bank_target_test, knnpreds_test)\n",
    "knnCm = (confusion_matrix(bank_target_test, knnpreds_test))\n",
    "knnTestScore = knnclf.score(bank_test_norm, bank_target_test)\n",
    "knnTrainScore = knnclf.score(bank_train_norm, bank_target_train)"
   ]
  },
  {
   "cell_type": "code",
   "execution_count": null,
   "metadata": {
    "collapsed": true
   },
   "outputs": [],
   "source": [
    "print(knnClfReport)"
   ]
  },
  {
   "cell_type": "code",
   "execution_count": null,
   "metadata": {
    "collapsed": true
   },
   "outputs": [],
   "source": [
    "print(knnCm)"
   ]
  },
  {
   "cell_type": "code",
   "execution_count": null,
   "metadata": {
    "collapsed": true
   },
   "outputs": [],
   "source": [
    "print(knnTestScore)"
   ]
  },
  {
   "cell_type": "code",
   "execution_count": null,
   "metadata": {
    "collapsed": true
   },
   "outputs": [],
   "source": [
    "print(knnTrainScore)"
   ]
  },
  {
   "cell_type": "code",
   "execution_count": null,
   "metadata": {
    "collapsed": true
   },
   "outputs": [],
   "source": [
    "plt.matshow(knnCm)\n",
    "plt.title('Knn Confusion matrix')\n",
    "plt.colorbar()\n",
    "plt.ylabel('Actual')\n",
    "plt.xlabel('Predicted')\n",
    "plt.show()"
   ]
  },
  {
   "cell_type": "code",
   "execution_count": null,
   "metadata": {
    "collapsed": true
   },
   "outputs": [],
   "source": [
    "'''I tried using a k value of 2 through 5, and also experimented with\n",
    "using Distanve versus Uniform as my weight. With a k=5 and Uniform as my\n",
    "weight, I was able to achieve a .6667 score, which was the highest I found.'''"
   ]
  },
  {
   "cell_type": "code",
   "execution_count": null,
   "metadata": {
    "collapsed": true
   },
   "outputs": [],
   "source": [
    "#Question 2 Part c"
   ]
  },
  {
   "cell_type": "code",
   "execution_count": null,
   "metadata": {
    "collapsed": true
   },
   "outputs": [],
   "source": [
    "'''Repeate classification using sklearn's decision tree, using default parameters & naive bays classifier.\n",
    "Generate confusion matrix, classifcation report, and average accuracy score for each classifier.\n",
    "For each model compare accuracy for test/training. \n",
    "What does the comparison tell you in terms of bias-variance trade-off?'''"
   ]
  },
  {
   "cell_type": "code",
   "execution_count": null,
   "metadata": {
    "collapsed": true
   },
   "outputs": [],
   "source": [
    "treeclf = tree.DecisionTreeClassifier()"
   ]
  },
  {
   "cell_type": "code",
   "execution_count": null,
   "metadata": {
    "collapsed": true
   },
   "outputs": [],
   "source": [
    "treeclf = treeclf.fit(bank_train, bank_target_train)"
   ]
  },
  {
   "cell_type": "code",
   "execution_count": null,
   "metadata": {
    "collapsed": true
   },
   "outputs": [],
   "source": [
    "treepreds_test = treeclf.predict(bank_test)\n",
    "print (treepreds_test)"
   ]
  },
  {
   "cell_type": "code",
   "execution_count": null,
   "metadata": {
    "collapsed": true
   },
   "outputs": [],
   "source": [
    "treeClfReport = classification_report(bank_target_test, treepreds_test)\n",
    "treeCm = confusion_matrix(bank_target_test, treepreds_test)\n",
    "treeTestScore = treeclf.score(bank_test_norm, bank_target_test)\n",
    "treeTrainScore = treeclf.score(bank_train_norm, bank_target_train)"
   ]
  },
  {
   "cell_type": "code",
   "execution_count": null,
   "metadata": {
    "collapsed": true
   },
   "outputs": [],
   "source": [
    "print(treeClfReport)"
   ]
  },
  {
   "cell_type": "code",
   "execution_count": null,
   "metadata": {
    "collapsed": true
   },
   "outputs": [],
   "source": [
    "print(treeCm)"
   ]
  },
  {
   "cell_type": "code",
   "execution_count": null,
   "metadata": {
    "collapsed": true
   },
   "outputs": [],
   "source": [
    "print(treeTestScore)"
   ]
  },
  {
   "cell_type": "code",
   "execution_count": null,
   "metadata": {
    "collapsed": true
   },
   "outputs": [],
   "source": [
    "print(treeTrainScore)"
   ]
  },
  {
   "cell_type": "code",
   "execution_count": null,
   "metadata": {
    "collapsed": true
   },
   "outputs": [],
   "source": [
    "#Naive Bayes"
   ]
  },
  {
   "cell_type": "code",
   "execution_count": null,
   "metadata": {
    "collapsed": true
   },
   "outputs": [],
   "source": [
    "nbclf = naive_bayes.GaussianNB()\n",
    "nbclf = nbclf.fit(bank_train, bank_target_train)\n",
    "nbpreds_test = nbclf.predict(bank_test)\n",
    "print (nbpreds_test)"
   ]
  },
  {
   "cell_type": "code",
   "execution_count": null,
   "metadata": {
    "collapsed": true
   },
   "outputs": [],
   "source": [
    "nbClfReport = classification_report(bank_target_test, nbpreds_test)\n",
    "nbCm = confusion_matrix(bank_target_test, nbpreds_test)\n",
    "nbTestScore = nbclf.score(bank_test_norm, bank_target_test)\n",
    "nbTrainScore = nbclf.score(bank_train_norm, bank_target_train)"
   ]
  },
  {
   "cell_type": "code",
   "execution_count": null,
   "metadata": {
    "collapsed": true
   },
   "outputs": [],
   "source": [
    "print(nbClfReport)"
   ]
  },
  {
   "cell_type": "code",
   "execution_count": null,
   "metadata": {
    "collapsed": true
   },
   "outputs": [],
   "source": [
    "print(nbCm)"
   ]
  },
  {
   "cell_type": "code",
   "execution_count": null,
   "metadata": {
    "collapsed": true
   },
   "outputs": [],
   "source": [
    "print(nbTestScore)"
   ]
  },
  {
   "cell_type": "code",
   "execution_count": null,
   "metadata": {
    "collapsed": true
   },
   "outputs": [],
   "source": [
    "print(nbTrainScore)"
   ]
  },
  {
   "cell_type": "code",
   "execution_count": null,
   "metadata": {
    "collapsed": true
   },
   "outputs": [],
   "source": [
    "#Question 2 Part d"
   ]
  },
  {
   "cell_type": "code",
   "execution_count": null,
   "metadata": {
    "collapsed": true
   },
   "outputs": [],
   "source": [
    "'''We can see that the kNN was the best option, since it gave us the highest\n",
    "accuracy score. The tree slightly overfit the training data, since the\n",
    "training score is higher than the test. Meaning, we have diminished bias\n",
    "but allowed in more variance. When using Naive-Bayes we see teh opposite. \n",
    "The training score is actually lower than the test, meaning the model was\n",
    "less complex, had more bias but less variance.'''"
   ]
  },
  {
   "cell_type": "code",
   "execution_count": null,
   "metadata": {
    "collapsed": true
   },
   "outputs": [],
   "source": [
    "######QUESTION 3######"
   ]
  },
  {
   "cell_type": "code",
   "execution_count": null,
   "metadata": {
    "collapsed": true
   },
   "outputs": [],
   "source": [
    "census = pd.read_csv('adult-modified.csv', sep=',', na_values=['?']) \n",
    "census.head(30)"
   ]
  },
  {
   "cell_type": "code",
   "execution_count": null,
   "metadata": {
    "collapsed": true
   },
   "outputs": [],
   "source": [
    "#Question 3 Part A"
   ]
  },
  {
   "cell_type": "code",
   "execution_count": null,
   "metadata": {
    "collapsed": true
   },
   "outputs": [],
   "source": [
    "'''Missing Values: categorical, remove. numeric, impute with mean'''"
   ]
  },
  {
   "cell_type": "code",
   "execution_count": null,
   "metadata": {
    "collapsed": true
   },
   "outputs": [],
   "source": [
    "census[census.workclass.isnull()]\n",
    "#performed for all cols, only Age and workclass had nulls."
   ]
  },
  {
   "cell_type": "code",
   "execution_count": null,
   "metadata": {
    "collapsed": true
   },
   "outputs": [],
   "source": [
    "census.shape"
   ]
  },
  {
   "cell_type": "code",
   "execution_count": null,
   "metadata": {
    "collapsed": true
   },
   "outputs": [],
   "source": [
    "age_mean = census.age.mean()\n",
    "census.age.fillna(age_mean, axis=0, inplace=True)"
   ]
  },
  {
   "cell_type": "code",
   "execution_count": null,
   "metadata": {
    "collapsed": true
   },
   "outputs": [],
   "source": [
    "census.dropna(axis=0, inplace=True)\n",
    "census.shape"
   ]
  },
  {
   "cell_type": "code",
   "execution_count": null,
   "metadata": {
    "collapsed": true
   },
   "outputs": [],
   "source": [
    "census.columns = ['age', 'workclass','education','marstatus','race','sex','hpw','income']"
   ]
  },
  {
   "cell_type": "code",
   "execution_count": null,
   "metadata": {
    "collapsed": true
   },
   "outputs": [],
   "source": [
    "list(census)"
   ]
  },
  {
   "cell_type": "code",
   "execution_count": null,
   "metadata": {
    "collapsed": true
   },
   "outputs": [],
   "source": [
    "'''Examine attributes. Relevant stats. Histogram for numeric. Bar for categorical.'''"
   ]
  },
  {
   "cell_type": "code",
   "execution_count": null,
   "metadata": {
    "collapsed": true
   },
   "outputs": [],
   "source": [
    "census[\"education\"] = census[\"education\"].astype('category')"
   ]
  },
  {
   "cell_type": "code",
   "execution_count": null,
   "metadata": {
    "collapsed": true
   },
   "outputs": [],
   "source": [
    "census.describe(include='all')"
   ]
  },
  {
   "cell_type": "code",
   "execution_count": null,
   "metadata": {
    "collapsed": true
   },
   "outputs": [],
   "source": [
    "#Numeric Histograms"
   ]
  },
  {
   "cell_type": "code",
   "execution_count": null,
   "metadata": {
    "collapsed": true
   },
   "outputs": [],
   "source": [
    "census[\"age\"].plot(kind=\"hist\", bins=8)"
   ]
  },
  {
   "cell_type": "code",
   "execution_count": null,
   "metadata": {
    "collapsed": true
   },
   "outputs": [],
   "source": [
    "census[\"hpw\"].plot(kind=\"hist\", bins=8)"
   ]
  },
  {
   "cell_type": "code",
   "execution_count": null,
   "metadata": {
    "collapsed": true
   },
   "outputs": [],
   "source": [
    "census[\"education\"].value_counts().plot(kind='bar')"
   ]
  },
  {
   "cell_type": "code",
   "execution_count": null,
   "metadata": {
    "collapsed": true
   },
   "outputs": [],
   "source": [
    "census[\"workclass\"].value_counts().plot(kind='bar')"
   ]
  },
  {
   "cell_type": "code",
   "execution_count": null,
   "metadata": {
    "collapsed": true
   },
   "outputs": [],
   "source": [
    "census[\"marstatus\"].value_counts().plot(kind='bar')"
   ]
  },
  {
   "cell_type": "code",
   "execution_count": null,
   "metadata": {
    "collapsed": true
   },
   "outputs": [],
   "source": [
    "census[\"race\"].value_counts().plot(kind='bar')"
   ]
  },
  {
   "cell_type": "code",
   "execution_count": null,
   "metadata": {
    "collapsed": true
   },
   "outputs": [],
   "source": [
    "census[\"sex\"].value_counts().plot(kind='bar')"
   ]
  },
  {
   "cell_type": "code",
   "execution_count": null,
   "metadata": {
    "collapsed": true
   },
   "outputs": [],
   "source": [
    "census[\"income\"].value_counts().plot(kind='bar')"
   ]
  },
  {
   "cell_type": "code",
   "execution_count": null,
   "metadata": {
    "collapsed": true
   },
   "outputs": [],
   "source": [
    "'''Cross Tabulations w/bar graphs for:\n",
    "education+race, workclass+income, workclass+race, race+income.\n",
    "For race+income also create table showing % of each in low-income group.\n",
    "Discuss.'''"
   ]
  },
  {
   "cell_type": "code",
   "execution_count": null,
   "metadata": {
    "collapsed": true
   },
   "outputs": [],
   "source": [
    "RaceVIncome = pd.crosstab(census[\"race\"], census[\"income\"])\n",
    "RaceVIncome"
   ]
  },
  {
   "cell_type": "code",
   "execution_count": null,
   "metadata": {
    "collapsed": true
   },
   "outputs": [],
   "source": [
    "plt.show(RaceVIncome.plot(kind=\"bar\"))"
   ]
  },
  {
   "cell_type": "code",
   "execution_count": null,
   "metadata": {
    "collapsed": true
   },
   "outputs": [],
   "source": [
    "RaceVIncome['per_low'] = RaceVIncome['<=50K']/(RaceVIncome['<=50K']+RaceVIncome['>50K'])\n",
    "RaceVIncome['per_high'] = RaceVIncome['>50K']/(RaceVIncome['>50K']+RaceVIncome['<=50K'])\n",
    "RaceVIncome"
   ]
  },
  {
   "cell_type": "code",
   "execution_count": null,
   "metadata": {
    "collapsed": true
   },
   "outputs": [],
   "source": [
    "plt.show(RaceVIncome[\"per_low\"].plot(kind=\"bar\"))"
   ]
  },
  {
   "cell_type": "code",
   "execution_count": null,
   "metadata": {
    "collapsed": true
   },
   "outputs": [],
   "source": [
    "WorkVRace = pd.crosstab(census[\"workclass\"], census[\"race\"])\n",
    "WorkVRace"
   ]
  },
  {
   "cell_type": "code",
   "execution_count": null,
   "metadata": {
    "collapsed": true
   },
   "outputs": [],
   "source": [
    "plt.show(WorkVRace.plot(kind=\"bar\"))"
   ]
  },
  {
   "cell_type": "code",
   "execution_count": null,
   "metadata": {
    "collapsed": true
   },
   "outputs": [],
   "source": [
    "WorkVIncome = pd.crosstab(census[\"workclass\"], census[\"income\"])\n",
    "WorkVIncome"
   ]
  },
  {
   "cell_type": "code",
   "execution_count": null,
   "metadata": {
    "collapsed": true
   },
   "outputs": [],
   "source": [
    "plt.show(WorkVIncome.plot(kind=\"bar\"))"
   ]
  },
  {
   "cell_type": "code",
   "execution_count": null,
   "metadata": {
    "collapsed": true
   },
   "outputs": [],
   "source": [
    "EdVRace = pd.crosstab(census[\"education\"], census[\"race\"])\n",
    "EdVRace"
   ]
  },
  {
   "cell_type": "code",
   "execution_count": null,
   "metadata": {
    "collapsed": true
   },
   "outputs": [],
   "source": [
    "plt.show(EdVRace.plot(kind=\"bar\"))"
   ]
  },
  {
   "cell_type": "code",
   "execution_count": null,
   "metadata": {
    "collapsed": true
   },
   "outputs": [],
   "source": [
    "'''The above graphs show us, what we would likely expect to see. Though it may be not what we would hope to see. \n",
    "For example, that regardless of the workclass, many more people have a low-income than high.\n",
    "This is especially prevelant in the private sector. \n",
    "Additionally, we see that white people are the majority in all workclass categories,\n",
    "but we see that they are almost alone in the Self Employed. \n",
    "A higher percentage of all minorities are in the low-income budget, when compared to white people.\n",
    "With asian being the second lowest. '''"
   ]
  },
  {
   "cell_type": "code",
   "execution_count": null,
   "metadata": {
    "collapsed": true
   },
   "outputs": [],
   "source": [
    "'''Compare/Contrast characteristics of low v high income across other attributes.'''"
   ]
  },
  {
   "cell_type": "code",
   "execution_count": null,
   "metadata": {
    "collapsed": true
   },
   "outputs": [],
   "source": [
    "low_income = census[census.income=='<=50K']\n",
    "high_income = census[census.income=='>50K']\n",
    "low_income.head()"
   ]
  },
  {
   "cell_type": "code",
   "execution_count": null,
   "metadata": {
    "collapsed": true
   },
   "outputs": [],
   "source": [
    "high_income.head()"
   ]
  },
  {
   "cell_type": "code",
   "execution_count": null,
   "metadata": {
    "collapsed": true
   },
   "outputs": [],
   "source": [
    "print (\"Low Income:\\n\", low_income.describe(include='all'))\n",
    "print(\"\\n\")\n",
    "print (\"High Income:\\n\", high_income.describe(include='all'))"
   ]
  },
  {
   "cell_type": "code",
   "execution_count": null,
   "metadata": {
    "collapsed": true
   },
   "outputs": [],
   "source": [
    "'''In comparing high income versus low income, we see that those people\n",
    "with a high income have a higher mean age(44 compared to 37), higher mean\n",
    "education, and are more likely to be married. Interestingly, when we look\n",
    "at income between the two groups, we see that high income earners have a \n",
    "higher mean (36 compared to 40). But both have identical medians (40). \n",
    "Both groups are predominately white males. '''"
   ]
  },
  {
   "cell_type": "code",
   "execution_count": null,
   "metadata": {
    "collapsed": true
   },
   "outputs": [],
   "source": [
    "#Question 3 Part B"
   ]
  },
  {
   "cell_type": "code",
   "execution_count": null,
   "metadata": {
    "collapsed": true
   },
   "outputs": [],
   "source": [
    "'''Create dummy variables. Separate target (income >50k). Drop income <=50k'''"
   ]
  },
  {
   "cell_type": "code",
   "execution_count": null,
   "metadata": {
    "collapsed": true
   },
   "outputs": [],
   "source": [
    "census.head()"
   ]
  },
  {
   "cell_type": "code",
   "execution_count": null,
   "metadata": {
    "collapsed": true
   },
   "outputs": [],
   "source": [
    "census_matrix = pd.get_dummies(census[['age','workclass','education','marstatus','race','sex','hpw','income']])\n",
    "census_matrix.head(10)"
   ]
  },
  {
   "cell_type": "code",
   "execution_count": null,
   "metadata": {
    "collapsed": true
   },
   "outputs": [],
   "source": [
    "census_names = census_matrix.columns.values\n",
    "census_names"
   ]
  },
  {
   "cell_type": "code",
   "execution_count": null,
   "metadata": {
    "collapsed": true
   },
   "outputs": [],
   "source": [
    "census_records = census_matrix[['age', 'hpw', 'workclass_Private', 'workclass_Public',\n",
    "       'workclass_Self-emp', 'education_1', 'education_2', 'education_3',\n",
    "       'education_4', 'education_5', 'education_6', 'education_7',\n",
    "       'education_8', 'education_9', 'education_10', 'education_11',\n",
    "       'education_12', 'education_13', 'education_14', 'education_15',\n",
    "       'education_16', 'marstatus_Married', 'marstatus_Single',\n",
    "       'race_Amer-Indian', 'race_Asian', 'race_Black', 'race_Hispanic',\n",
    "       'race_White', 'sex_Female', 'sex_Male']]\n",
    "census_records.head()"
   ]
  },
  {
   "cell_type": "code",
   "execution_count": null,
   "metadata": {
    "collapsed": true
   },
   "outputs": [],
   "source": [
    "census_target = census_matrix['income_>50K']\n",
    "census_target.head()"
   ]
  },
  {
   "cell_type": "code",
   "execution_count": null,
   "metadata": {
    "collapsed": true
   },
   "outputs": [],
   "source": [
    "from sklearn.cross_validation import train_test_split\n",
    "census_train, census_test, census_target_train, census_target_test = train_test_split(census_matrix, census_target, test_size=0.2, random_state=33)\n",
    "\n",
    "np.set_printoptions(precision=4, linewidth=80, suppress=True)\n",
    "print (census_test.shape)\n",
    "print (census_test[0:5])\n",
    "print (census_train.shape)\n",
    "print (census_train[0:5])"
   ]
  },
  {
   "cell_type": "code",
   "execution_count": null,
   "metadata": {
    "collapsed": true
   },
   "outputs": [],
   "source": [
    "'''Build naive bayes, decision tree and LDA classifcation.\n",
    "For each perform 10-fold cross validation and report average accuracy.'''"
   ]
  },
  {
   "cell_type": "code",
   "execution_count": null,
   "metadata": {
    "collapsed": true
   },
   "outputs": [],
   "source": [
    "#normalize"
   ]
  },
  {
   "cell_type": "code",
   "execution_count": null,
   "metadata": {
    "collapsed": true
   },
   "outputs": [],
   "source": [
    "from sklearn import preprocessing, cross_validation, neighbors, tree, naive_bayes\n",
    "from sklearn.metrics import classification_report, confusion_matrix"
   ]
  },
  {
   "cell_type": "code",
   "execution_count": null,
   "metadata": {
    "collapsed": true
   },
   "outputs": [],
   "source": [
    "min_max_scaler = preprocessing.MinMaxScaler().fit(census_train)\n",
    "census_train_norm = min_max_scaler.fit_transform(census_train)\n",
    "census_test_norm = min_max_scaler.fit_transform(census_test)"
   ]
  },
  {
   "cell_type": "code",
   "execution_count": null,
   "metadata": {
    "collapsed": true
   },
   "outputs": [],
   "source": [
    "census_target_train = np.array(census_target_train)\n",
    "census_target_test = np.array(census_target_test)"
   ]
  },
  {
   "cell_type": "code",
   "execution_count": null,
   "metadata": {
    "collapsed": true
   },
   "outputs": [],
   "source": [
    "#Naive Bayes"
   ]
  },
  {
   "cell_type": "code",
   "execution_count": null,
   "metadata": {
    "collapsed": true
   },
   "outputs": [],
   "source": [
    "Cnbclf = naive_bayes.GaussianNB()\n",
    "Cnbclf = Cnbclf.fit(census_train, census_target_train)\n",
    "Cnbpreds_test = Cnbclf.predict(census_test)\n",
    "print(Cnbpreds_test)"
   ]
  },
  {
   "cell_type": "code",
   "execution_count": null,
   "metadata": {
    "collapsed": true
   },
   "outputs": [],
   "source": [
    "CnbclfReport = classification_report(census_target_test, Cnbpreds_test)\n",
    "CnbCm = confusion_matrix(census_target_test, Cnbpreds_test)\n",
    "CnbTestScore = Cnbclf.score(census_test_norm, census_target_test)\n",
    "CnbTrainScore = Cnbclf.score(census_train_norm, census_target_train)"
   ]
  },
  {
   "cell_type": "code",
   "execution_count": null,
   "metadata": {
    "collapsed": true
   },
   "outputs": [],
   "source": [
    "print(CnbclfReport)"
   ]
  },
  {
   "cell_type": "code",
   "execution_count": null,
   "metadata": {
    "collapsed": true
   },
   "outputs": [],
   "source": [
    "print(CnbCm)"
   ]
  },
  {
   "cell_type": "code",
   "execution_count": null,
   "metadata": {
    "collapsed": true
   },
   "outputs": [],
   "source": [
    "print(CnbTestScore, CnbTrainScore)"
   ]
  },
  {
   "cell_type": "code",
   "execution_count": null,
   "metadata": {
    "collapsed": true
   },
   "outputs": [],
   "source": [
    "NBcv_scores = cross_validation.cross_val_score(Cnbclf, census_matrix, census_target, cv=10)\n",
    "NBcv_scores"
   ]
  },
  {
   "cell_type": "code",
   "execution_count": null,
   "metadata": {
    "collapsed": true
   },
   "outputs": [],
   "source": [
    "\n",
    "print(\"Overall Accuracy: %0.2f (+/- %0.2f)\" % (NBcv_scores.mean(), NBcv_scores.std()*2))"
   ]
  },
  {
   "cell_type": "code",
   "execution_count": null,
   "metadata": {
    "collapsed": true
   },
   "outputs": [],
   "source": [
    "#decision tree with entropy"
   ]
  },
  {
   "cell_type": "code",
   "execution_count": null,
   "metadata": {
    "collapsed": true
   },
   "outputs": [],
   "source": [
    "Ctreeclf = tree.DecisionTreeClassifier(criterion='entropy')\n",
    "Ctreeclf = Ctreeclf.fit(census_train, census_target_train)"
   ]
  },
  {
   "cell_type": "code",
   "execution_count": null,
   "metadata": {
    "collapsed": true
   },
   "outputs": [],
   "source": [
    "Ctreepreds_test = Ctreeclf.predict(census_test)"
   ]
  },
  {
   "cell_type": "code",
   "execution_count": null,
   "metadata": {
    "collapsed": true
   },
   "outputs": [],
   "source": [
    "CtreeClfReport = classification_report(census_target_test, Ctreepreds_test)\n",
    "CtreeCm = confusion_matrix(census_target_test, Ctreepreds_test)\n",
    "CtreeTestScore = Ctreeclf.score(census_test_norm, census_target_test)\n",
    "CtreeTrainScore = Ctreeclf.score(census_train_norm, census_target_train)"
   ]
  },
  {
   "cell_type": "code",
   "execution_count": null,
   "metadata": {
    "collapsed": true
   },
   "outputs": [],
   "source": [
    "print(CtreeClfReport)"
   ]
  },
  {
   "cell_type": "code",
   "execution_count": null,
   "metadata": {
    "collapsed": true
   },
   "outputs": [],
   "source": [
    "print(CtreeCm)"
   ]
  },
  {
   "cell_type": "code",
   "execution_count": null,
   "metadata": {
    "collapsed": true
   },
   "outputs": [],
   "source": [
    "print(CtreeTestScore)"
   ]
  },
  {
   "cell_type": "code",
   "execution_count": null,
   "metadata": {
    "collapsed": true
   },
   "outputs": [],
   "source": [
    "print(CtreeTrainScore)"
   ]
  },
  {
   "cell_type": "code",
   "execution_count": null,
   "metadata": {
    "collapsed": true
   },
   "outputs": [],
   "source": [
    "treecv_scores = cross_validation.cross_val_score(Ctreeclf, census_matrix, census_target, cv=10)\n",
    "treecv_scores"
   ]
  },
  {
   "cell_type": "code",
   "execution_count": null,
   "metadata": {
    "collapsed": true
   },
   "outputs": [],
   "source": [
    "print(\"Overall Accuracy: %0.2f (+/- %0.2f)\" % (treecv_scores.mean(), treecv_scores.std()*2))"
   ]
  },
  {
   "cell_type": "code",
   "execution_count": null,
   "metadata": {
    "collapsed": true
   },
   "outputs": [],
   "source": [
    "#LDA"
   ]
  },
  {
   "cell_type": "code",
   "execution_count": null,
   "metadata": {
    "collapsed": true
   },
   "outputs": [],
   "source": [
    "from sklearn.lda import LDA"
   ]
  },
  {
   "cell_type": "code",
   "execution_count": null,
   "metadata": {
    "collapsed": true
   },
   "outputs": [],
   "source": [
    "ldclf = LDA()\n",
    "ldclf = ldclf.fit(census_train, census_target_train)\n",
    "ldpreds_test = ldclf.predict(census_test)\n",
    "print(ldpreds_test)"
   ]
  },
  {
   "cell_type": "code",
   "execution_count": null,
   "metadata": {
    "collapsed": true
   },
   "outputs": [],
   "source": [
    "print (ldclf.score(census_matrix, census_target))"
   ]
  },
  {
   "cell_type": "code",
   "execution_count": null,
   "metadata": {
    "collapsed": true
   },
   "outputs": [],
   "source": [
    "LDAcv_scores = cross_validation.cross_val_score(ldclf, census_matrix, census_target, cv=10)\n",
    "LDAcv_scores\n",
    "print(\"Overall Accuracy: %0.2f (+/- %0.2f)\" % (LDAcv_scores.mean(), LDAcv_scores.std()*2))"
   ]
  },
  {
   "cell_type": "code",
   "execution_count": null,
   "metadata": {
    "collapsed": true
   },
   "outputs": [],
   "source": [
    "print(\"Overall Accuracy: %0.2f (+/- %0.2f)\" % (LDAcv_scores.mean(), LDAcv_scores.std()*2))"
   ]
  }
 ],
 "metadata": {
  "anaconda-cloud": {},
  "kernelspec": {
   "display_name": "Python [conda root]",
   "language": "python",
   "name": "conda-root-py"
  },
  "language_info": {
   "codemirror_mode": {
    "name": "ipython",
    "version": 3
   },
   "file_extension": ".py",
   "mimetype": "text/x-python",
   "name": "python",
   "nbconvert_exporter": "python",
   "pygments_lexer": "ipython3",
   "version": "3.5.2"
  }
 },
 "nbformat": 4,
 "nbformat_minor": 1
}
