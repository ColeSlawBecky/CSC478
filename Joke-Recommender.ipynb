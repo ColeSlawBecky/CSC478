{
 "cells": [
  {
   "cell_type": "code",
   "execution_count": 16,
   "metadata": {
    "collapsed": true
   },
   "outputs": [],
   "source": [
    "import numpy as np\n",
    "import pandas as pd\n",
    "from numpy import linalg as la\n",
    "from itemBasedRec import *"
   ]
  },
  {
   "cell_type": "code",
   "execution_count": 2,
   "metadata": {
    "collapsed": true
   },
   "outputs": [],
   "source": [
    "#Part a"
   ]
  },
  {
   "cell_type": "code",
   "execution_count": 17,
   "metadata": {
    "collapsed": true
   },
   "outputs": [],
   "source": [
    "Mat = np.genfromtxt('modified_jester_data.csv',delimiter=',')"
   ]
  },
  {
   "cell_type": "code",
   "execution_count": 4,
   "metadata": {
    "collapsed": true
   },
   "outputs": [],
   "source": [
    "#Part b"
   ]
  },
  {
   "cell_type": "code",
   "execution_count": 23,
   "metadata": {
    "collapsed": true
   },
   "outputs": [],
   "source": [
    "def test(dataMat, test_ratio):\n",
    "    SumErr = 0\n",
    "    SumCnt = 0\n",
    "    for p in range(Mat.shape[0]):\n",
    "        err, cnt = cross_validate_user(dataMat, p, test_ratio, standEst)\n",
    "        SumErr += err\n",
    "        SumCnt += cnt\n",
    "    MAEstand = SumErr/SumCnt\n",
    "    \n",
    "    SumErr = 0\n",
    "    SumCnt = 0\n",
    "    for p in range(Mat.shape[0]):\n",
    "        err, cnt = cross_validate_user(dataMat, p, test_ratio, svdEst)\n",
    "        SumErr += err\n",
    "        SumCnt += cnt\n",
    "    MAEsvd = SumErr/SumCnt\n",
    "\n",
    "    print ('Mean Absolute Error using standEst: {0}'.format(MAEstand))\n",
    "    print ('Mean Absolute Error using svdEst: {0}'.format(MAEsvd))"
   ]
  },
  {
   "cell_type": "code",
   "execution_count": 24,
   "metadata": {},
   "outputs": [
    {
     "name": "stdout",
     "output_type": "stream",
     "text": [
      "Mean Absolute Error using standEst: 3.68050846505\n",
      "Mean Absolute Error using svdEst: 3.6740148508\n"
     ]
    }
   ],
   "source": [
    "test(Mat, .2)"
   ]
  },
  {
   "cell_type": "code",
   "execution_count": null,
   "metadata": {
    "collapsed": true
   },
   "outputs": [],
   "source": [
    "#Part c"
   ]
  },
  {
   "cell_type": "code",
   "execution_count": 25,
   "metadata": {
    "collapsed": true
   },
   "outputs": [],
   "source": [
    "def print_most_similar_jokes(jokeData, JokeID, k):\n",
    "    jokes = np.genfromtxt('jokes.csv',delimiter=',',dtype=None)\n",
    "    \n",
    "    dists = []\n",
    "    for i in range(len(jokes)):\n",
    "        if JokeID == i: continue\n",
    "        elif len(jokeData.T[JokeID]) < 3 : return 1.0\n",
    "        else:\n",
    "            temp = []\n",
    "            temp.append(i)\n",
    "            temp.append(0.5 + 0.5 * corrcoef(jokeData.T[JokeID], jokeData.T[i], rowvar = 0)[0][1])\n",
    "            dists.append(temp)\n",
    "    sortDists = sorted(dists, key=lambda x: x[1], reverse=True)\n",
    "    selected = []\n",
    "    for j in range(k):\n",
    "        selected.append(sortDists[j][0])\n",
    "    print('Selected Joke: \\n{0}'.format(jokes[JokeID][1]))\n",
    "    print('\\n\\n{0} most similar jokes: \\n'.format(k))\n",
    "    for l in selected:\n",
    "        print('{0}\\n'.format(jokes[l][1]))"
   ]
  },
  {
   "cell_type": "code",
   "execution_count": 26,
   "metadata": {},
   "outputs": [
    {
     "name": "stdout",
     "output_type": "stream",
     "text": [
      "Selected Joke: \n",
      "They asked the Japanese visitor if they have elections in his country.  \"Every Morning\" he answers.\n",
      "\n",
      "\n",
      "4 most similar jokes: \n",
      "\n",
      "Q:  What did the blind person say when given some matzah?A:  Who the hell wrote this?\n",
      "\n",
      "This couple had an excellent relationship going until one day he came home from work to find his girlfriend packing. He asked her why she was leaving him and she told him that she had heard awful things about him. \"What could they possibly have said to make you move out?\" \"They told me that you were a pedophile.\" He replied \"That's an awfully big word for a ten year old.\"\n",
      "\n",
      "Q. Did you hear about the dyslexic devil worshipper? A. He sold his soul to Santa.\n",
      "\n",
      "Two cannibals are eating a clown one turns to other and says: \"Does this taste funny to you?\n",
      "\n"
     ]
    }
   ],
   "source": [
    "print_most_similar_jokes(Mat,12,4)"
   ]
  },
  {
   "cell_type": "code",
   "execution_count": null,
   "metadata": {
    "collapsed": true
   },
   "outputs": [],
   "source": []
  }
 ],
 "metadata": {
  "anaconda-cloud": {},
  "kernelspec": {
   "display_name": "Python [conda env:py27]",
   "language": "python",
   "name": "conda-env-py27-py"
  },
  "language_info": {
   "codemirror_mode": {
    "name": "ipython",
    "version": 2
   },
   "file_extension": ".py",
   "mimetype": "text/x-python",
   "name": "python",
   "nbconvert_exporter": "python",
   "pygments_lexer": "ipython2",
   "version": "2.7.13"
  }
 },
 "nbformat": 4,
 "nbformat_minor": 1
}
