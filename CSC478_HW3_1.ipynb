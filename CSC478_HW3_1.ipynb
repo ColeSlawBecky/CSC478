{
 "cells": [
  {
   "cell_type": "code",
   "execution_count": 1,
   "metadata": {
    "collapsed": true
   },
   "outputs": [],
   "source": [
    "#Becky Jacob\n",
    "#CSC478 Homework 3"
   ]
  },
  {
   "cell_type": "code",
   "execution_count": 2,
   "metadata": {
    "collapsed": true
   },
   "outputs": [],
   "source": [
    "import pandas as pd\n",
    "import numpy as np\n",
    "from sklearn.cross_validation import KFold\n",
    "from sklearn.linear_model import LinearRegression, Lasso, Ridge, ElasticNet, SGDRegressor\n",
    "import matplotlib.pyplot as plt\n",
    "import pylab as pl\n",
    "%matplotlib inline\n",
    "import os\n",
    "from sklearn import feature_selection\n",
    "from sklearn import cross_validation\n",
    "import math"
   ]
  },
  {
   "cell_type": "code",
   "execution_count": 3,
   "metadata": {
    "collapsed": true
   },
   "outputs": [],
   "source": [
    "#Question 1"
   ]
  },
  {
   "cell_type": "code",
   "execution_count": 4,
   "metadata": {},
   "outputs": [
    {
     "data": {
      "text/plain": [
       "'Load and preprocess data. No need to normalize. \\nCompute and display basic statistics (mean, standard deviation, min, max, etc.) for each variables. \\nSeparate the target attribute for regression.'"
      ]
     },
     "execution_count": 4,
     "metadata": {},
     "output_type": "execute_result"
    }
   ],
   "source": [
    "#####################\n",
    "#Part a\n",
    "#####################\n",
    "'''Load and preprocess data. No need to normalize. \n",
    "Compute and display basic statistics (mean, standard deviation, min, max, etc.) for each variables. \n",
    "Separate the target attribute for regression.'''"
   ]
  },
  {
   "cell_type": "code",
   "execution_count": 5,
   "metadata": {},
   "outputs": [
    {
     "data": {
      "text/html": [
       "<div>\n",
       "<table border=\"1\" class=\"dataframe\">\n",
       "  <thead>\n",
       "    <tr style=\"text-align: right;\">\n",
       "      <th></th>\n",
       "      <th>state</th>\n",
       "      <th>communityname</th>\n",
       "      <th>population</th>\n",
       "      <th>householdsize</th>\n",
       "      <th>racepctblack</th>\n",
       "      <th>racePctWhite</th>\n",
       "      <th>racePctAsian</th>\n",
       "      <th>racePctHisp</th>\n",
       "      <th>agePct12t21</th>\n",
       "      <th>agePct12t29</th>\n",
       "      <th>...</th>\n",
       "      <th>NumStreet</th>\n",
       "      <th>PctForeignBorn</th>\n",
       "      <th>PctBornSameState</th>\n",
       "      <th>PctSameHouse85</th>\n",
       "      <th>PctSameCity85</th>\n",
       "      <th>PctSameState85</th>\n",
       "      <th>LandArea</th>\n",
       "      <th>PopDens</th>\n",
       "      <th>PctUsePubTrans</th>\n",
       "      <th>ViolentCrimesPerPop</th>\n",
       "    </tr>\n",
       "  </thead>\n",
       "  <tbody>\n",
       "    <tr>\n",
       "      <th>0</th>\n",
       "      <td>8</td>\n",
       "      <td>Lakewoodcity</td>\n",
       "      <td>0.19</td>\n",
       "      <td>0.33</td>\n",
       "      <td>0.02</td>\n",
       "      <td>0.90</td>\n",
       "      <td>0.12</td>\n",
       "      <td>0.17</td>\n",
       "      <td>0.34</td>\n",
       "      <td>0.47</td>\n",
       "      <td>...</td>\n",
       "      <td>0.0</td>\n",
       "      <td>0.12</td>\n",
       "      <td>0.42</td>\n",
       "      <td>0.50</td>\n",
       "      <td>0.51</td>\n",
       "      <td>0.64</td>\n",
       "      <td>0.12</td>\n",
       "      <td>0.26</td>\n",
       "      <td>0.20</td>\n",
       "      <td>0.20</td>\n",
       "    </tr>\n",
       "    <tr>\n",
       "      <th>1</th>\n",
       "      <td>53</td>\n",
       "      <td>Tukwilacity</td>\n",
       "      <td>0.00</td>\n",
       "      <td>0.16</td>\n",
       "      <td>0.12</td>\n",
       "      <td>0.74</td>\n",
       "      <td>0.45</td>\n",
       "      <td>0.07</td>\n",
       "      <td>0.26</td>\n",
       "      <td>0.59</td>\n",
       "      <td>...</td>\n",
       "      <td>0.0</td>\n",
       "      <td>0.21</td>\n",
       "      <td>0.50</td>\n",
       "      <td>0.34</td>\n",
       "      <td>0.60</td>\n",
       "      <td>0.52</td>\n",
       "      <td>0.02</td>\n",
       "      <td>0.12</td>\n",
       "      <td>0.45</td>\n",
       "      <td>0.67</td>\n",
       "    </tr>\n",
       "    <tr>\n",
       "      <th>2</th>\n",
       "      <td>24</td>\n",
       "      <td>Aberdeentown</td>\n",
       "      <td>0.00</td>\n",
       "      <td>0.42</td>\n",
       "      <td>0.49</td>\n",
       "      <td>0.56</td>\n",
       "      <td>0.17</td>\n",
       "      <td>0.04</td>\n",
       "      <td>0.39</td>\n",
       "      <td>0.47</td>\n",
       "      <td>...</td>\n",
       "      <td>0.0</td>\n",
       "      <td>0.14</td>\n",
       "      <td>0.49</td>\n",
       "      <td>0.54</td>\n",
       "      <td>0.67</td>\n",
       "      <td>0.56</td>\n",
       "      <td>0.01</td>\n",
       "      <td>0.21</td>\n",
       "      <td>0.02</td>\n",
       "      <td>0.43</td>\n",
       "    </tr>\n",
       "    <tr>\n",
       "      <th>3</th>\n",
       "      <td>34</td>\n",
       "      <td>Willingborotownship</td>\n",
       "      <td>0.04</td>\n",
       "      <td>0.77</td>\n",
       "      <td>1.00</td>\n",
       "      <td>0.08</td>\n",
       "      <td>0.12</td>\n",
       "      <td>0.10</td>\n",
       "      <td>0.51</td>\n",
       "      <td>0.50</td>\n",
       "      <td>...</td>\n",
       "      <td>0.0</td>\n",
       "      <td>0.19</td>\n",
       "      <td>0.30</td>\n",
       "      <td>0.73</td>\n",
       "      <td>0.64</td>\n",
       "      <td>0.65</td>\n",
       "      <td>0.02</td>\n",
       "      <td>0.39</td>\n",
       "      <td>0.28</td>\n",
       "      <td>0.12</td>\n",
       "    </tr>\n",
       "    <tr>\n",
       "      <th>4</th>\n",
       "      <td>42</td>\n",
       "      <td>Bethlehemtownship</td>\n",
       "      <td>0.01</td>\n",
       "      <td>0.55</td>\n",
       "      <td>0.02</td>\n",
       "      <td>0.95</td>\n",
       "      <td>0.09</td>\n",
       "      <td>0.05</td>\n",
       "      <td>0.38</td>\n",
       "      <td>0.38</td>\n",
       "      <td>...</td>\n",
       "      <td>0.0</td>\n",
       "      <td>0.11</td>\n",
       "      <td>0.72</td>\n",
       "      <td>0.64</td>\n",
       "      <td>0.61</td>\n",
       "      <td>0.53</td>\n",
       "      <td>0.04</td>\n",
       "      <td>0.09</td>\n",
       "      <td>0.02</td>\n",
       "      <td>0.03</td>\n",
       "    </tr>\n",
       "  </tbody>\n",
       "</table>\n",
       "<p>5 rows × 100 columns</p>\n",
       "</div>"
      ],
      "text/plain": [
       "   state        communityname  population  householdsize  racepctblack  \\\n",
       "0      8         Lakewoodcity        0.19           0.33          0.02   \n",
       "1     53          Tukwilacity        0.00           0.16          0.12   \n",
       "2     24         Aberdeentown        0.00           0.42          0.49   \n",
       "3     34  Willingborotownship        0.04           0.77          1.00   \n",
       "4     42    Bethlehemtownship        0.01           0.55          0.02   \n",
       "\n",
       "   racePctWhite  racePctAsian  racePctHisp  agePct12t21  agePct12t29  \\\n",
       "0          0.90          0.12         0.17         0.34         0.47   \n",
       "1          0.74          0.45         0.07         0.26         0.59   \n",
       "2          0.56          0.17         0.04         0.39         0.47   \n",
       "3          0.08          0.12         0.10         0.51         0.50   \n",
       "4          0.95          0.09         0.05         0.38         0.38   \n",
       "\n",
       "          ...           NumStreet  PctForeignBorn  PctBornSameState  \\\n",
       "0         ...                 0.0            0.12              0.42   \n",
       "1         ...                 0.0            0.21              0.50   \n",
       "2         ...                 0.0            0.14              0.49   \n",
       "3         ...                 0.0            0.19              0.30   \n",
       "4         ...                 0.0            0.11              0.72   \n",
       "\n",
       "   PctSameHouse85  PctSameCity85  PctSameState85  LandArea  PopDens  \\\n",
       "0            0.50           0.51            0.64      0.12     0.26   \n",
       "1            0.34           0.60            0.52      0.02     0.12   \n",
       "2            0.54           0.67            0.56      0.01     0.21   \n",
       "3            0.73           0.64            0.65      0.02     0.39   \n",
       "4            0.64           0.61            0.53      0.04     0.09   \n",
       "\n",
       "   PctUsePubTrans  ViolentCrimesPerPop  \n",
       "0            0.20                 0.20  \n",
       "1            0.45                 0.67  \n",
       "2            0.02                 0.43  \n",
       "3            0.28                 0.12  \n",
       "4            0.02                 0.03  \n",
       "\n",
       "[5 rows x 100 columns]"
      ]
     },
     "execution_count": 5,
     "metadata": {},
     "output_type": "execute_result"
    }
   ],
   "source": [
    "comm_ = pd.read_csv('communities.csv', sep=',', na_values=['?'])\n",
    "comm_.head()"
   ]
  },
  {
   "cell_type": "code",
   "execution_count": 6,
   "metadata": {
    "collapsed": true
   },
   "outputs": [],
   "source": [
    "del comm_['communityname']\n",
    "del comm_['state']"
   ]
  },
  {
   "cell_type": "code",
   "execution_count": 7,
   "metadata": {},
   "outputs": [
    {
     "data": {
      "text/plain": [
       "1"
      ]
     },
     "execution_count": 7,
     "metadata": {},
     "output_type": "execute_result"
    }
   ],
   "source": [
    "#check for NaNs\n",
    "#comm_.isnull().values.any()\n",
    "comm_.isnull().sum().sum()"
   ]
  },
  {
   "cell_type": "code",
   "execution_count": 8,
   "metadata": {},
   "outputs": [
    {
     "data": {
      "text/html": [
       "<div>\n",
       "<table border=\"1\" class=\"dataframe\">\n",
       "  <thead>\n",
       "    <tr style=\"text-align: right;\">\n",
       "      <th></th>\n",
       "      <th>population</th>\n",
       "      <th>householdsize</th>\n",
       "      <th>racepctblack</th>\n",
       "      <th>racePctWhite</th>\n",
       "      <th>racePctAsian</th>\n",
       "      <th>racePctHisp</th>\n",
       "      <th>agePct12t21</th>\n",
       "      <th>agePct12t29</th>\n",
       "      <th>agePct16t24</th>\n",
       "      <th>agePct65up</th>\n",
       "      <th>...</th>\n",
       "      <th>NumStreet</th>\n",
       "      <th>PctForeignBorn</th>\n",
       "      <th>PctBornSameState</th>\n",
       "      <th>PctSameHouse85</th>\n",
       "      <th>PctSameCity85</th>\n",
       "      <th>PctSameState85</th>\n",
       "      <th>LandArea</th>\n",
       "      <th>PopDens</th>\n",
       "      <th>PctUsePubTrans</th>\n",
       "      <th>ViolentCrimesPerPop</th>\n",
       "    </tr>\n",
       "  </thead>\n",
       "  <tbody>\n",
       "    <tr>\n",
       "      <th>130</th>\n",
       "      <td>0.02</td>\n",
       "      <td>0.38</td>\n",
       "      <td>0.98</td>\n",
       "      <td>0.22</td>\n",
       "      <td>0.01</td>\n",
       "      <td>0.01</td>\n",
       "      <td>0.44</td>\n",
       "      <td>0.4</td>\n",
       "      <td>0.27</td>\n",
       "      <td>0.58</td>\n",
       "      <td>...</td>\n",
       "      <td>0.0</td>\n",
       "      <td>0.01</td>\n",
       "      <td>0.84</td>\n",
       "      <td>0.7</td>\n",
       "      <td>0.83</td>\n",
       "      <td>0.77</td>\n",
       "      <td>0.04</td>\n",
       "      <td>0.12</td>\n",
       "      <td>0.05</td>\n",
       "      <td>0.23</td>\n",
       "    </tr>\n",
       "  </tbody>\n",
       "</table>\n",
       "<p>1 rows × 98 columns</p>\n",
       "</div>"
      ],
      "text/plain": [
       "     population  householdsize  racepctblack  racePctWhite  racePctAsian  \\\n",
       "130        0.02           0.38          0.98          0.22          0.01   \n",
       "\n",
       "     racePctHisp  agePct12t21  agePct12t29  agePct16t24  agePct65up  \\\n",
       "130         0.01         0.44          0.4         0.27        0.58   \n",
       "\n",
       "            ...           NumStreet  PctForeignBorn  PctBornSameState  \\\n",
       "130         ...                 0.0            0.01              0.84   \n",
       "\n",
       "     PctSameHouse85  PctSameCity85  PctSameState85  LandArea  PopDens  \\\n",
       "130             0.7           0.83            0.77      0.04     0.12   \n",
       "\n",
       "     PctUsePubTrans  ViolentCrimesPerPop  \n",
       "130            0.05                 0.23  \n",
       "\n",
       "[1 rows x 98 columns]"
      ]
     },
     "execution_count": 8,
     "metadata": {},
     "output_type": "execute_result"
    }
   ],
   "source": [
    "comm_[comm_.OtherPerCap.isnull()]"
   ]
  },
  {
   "cell_type": "code",
   "execution_count": 9,
   "metadata": {},
   "outputs": [
    {
     "data": {
      "text/plain": [
       "(1993, 98)"
      ]
     },
     "execution_count": 9,
     "metadata": {},
     "output_type": "execute_result"
    }
   ],
   "source": [
    "comm_.dropna(axis=0, inplace=True)\n",
    "comm_.shape"
   ]
  },
  {
   "cell_type": "code",
   "execution_count": 10,
   "metadata": {},
   "outputs": [
    {
     "data": {
      "text/plain": [
       "0"
      ]
     },
     "execution_count": 10,
     "metadata": {},
     "output_type": "execute_result"
    }
   ],
   "source": [
    "comm_.isnull().sum().sum()"
   ]
  },
  {
   "cell_type": "code",
   "execution_count": 11,
   "metadata": {},
   "outputs": [
    {
     "data": {
      "text/html": [
       "<div>\n",
       "<table border=\"1\" class=\"dataframe\">\n",
       "  <thead>\n",
       "    <tr style=\"text-align: right;\">\n",
       "      <th></th>\n",
       "      <th>population</th>\n",
       "      <th>householdsize</th>\n",
       "      <th>racepctblack</th>\n",
       "      <th>racePctWhite</th>\n",
       "      <th>racePctAsian</th>\n",
       "      <th>racePctHisp</th>\n",
       "      <th>agePct12t21</th>\n",
       "      <th>agePct12t29</th>\n",
       "      <th>agePct16t24</th>\n",
       "      <th>agePct65up</th>\n",
       "      <th>...</th>\n",
       "      <th>NumStreet</th>\n",
       "      <th>PctForeignBorn</th>\n",
       "      <th>PctBornSameState</th>\n",
       "      <th>PctSameHouse85</th>\n",
       "      <th>PctSameCity85</th>\n",
       "      <th>PctSameState85</th>\n",
       "      <th>LandArea</th>\n",
       "      <th>PopDens</th>\n",
       "      <th>PctUsePubTrans</th>\n",
       "      <th>ViolentCrimesPerPop</th>\n",
       "    </tr>\n",
       "  </thead>\n",
       "  <tbody>\n",
       "    <tr>\n",
       "      <th>0</th>\n",
       "      <td>0.19</td>\n",
       "      <td>0.33</td>\n",
       "      <td>0.02</td>\n",
       "      <td>0.90</td>\n",
       "      <td>0.12</td>\n",
       "      <td>0.17</td>\n",
       "      <td>0.34</td>\n",
       "      <td>0.47</td>\n",
       "      <td>0.29</td>\n",
       "      <td>0.32</td>\n",
       "      <td>...</td>\n",
       "      <td>0.0</td>\n",
       "      <td>0.12</td>\n",
       "      <td>0.42</td>\n",
       "      <td>0.50</td>\n",
       "      <td>0.51</td>\n",
       "      <td>0.64</td>\n",
       "      <td>0.12</td>\n",
       "      <td>0.26</td>\n",
       "      <td>0.20</td>\n",
       "      <td>0.20</td>\n",
       "    </tr>\n",
       "    <tr>\n",
       "      <th>1</th>\n",
       "      <td>0.00</td>\n",
       "      <td>0.16</td>\n",
       "      <td>0.12</td>\n",
       "      <td>0.74</td>\n",
       "      <td>0.45</td>\n",
       "      <td>0.07</td>\n",
       "      <td>0.26</td>\n",
       "      <td>0.59</td>\n",
       "      <td>0.35</td>\n",
       "      <td>0.27</td>\n",
       "      <td>...</td>\n",
       "      <td>0.0</td>\n",
       "      <td>0.21</td>\n",
       "      <td>0.50</td>\n",
       "      <td>0.34</td>\n",
       "      <td>0.60</td>\n",
       "      <td>0.52</td>\n",
       "      <td>0.02</td>\n",
       "      <td>0.12</td>\n",
       "      <td>0.45</td>\n",
       "      <td>0.67</td>\n",
       "    </tr>\n",
       "    <tr>\n",
       "      <th>2</th>\n",
       "      <td>0.00</td>\n",
       "      <td>0.42</td>\n",
       "      <td>0.49</td>\n",
       "      <td>0.56</td>\n",
       "      <td>0.17</td>\n",
       "      <td>0.04</td>\n",
       "      <td>0.39</td>\n",
       "      <td>0.47</td>\n",
       "      <td>0.28</td>\n",
       "      <td>0.32</td>\n",
       "      <td>...</td>\n",
       "      <td>0.0</td>\n",
       "      <td>0.14</td>\n",
       "      <td>0.49</td>\n",
       "      <td>0.54</td>\n",
       "      <td>0.67</td>\n",
       "      <td>0.56</td>\n",
       "      <td>0.01</td>\n",
       "      <td>0.21</td>\n",
       "      <td>0.02</td>\n",
       "      <td>0.43</td>\n",
       "    </tr>\n",
       "    <tr>\n",
       "      <th>3</th>\n",
       "      <td>0.04</td>\n",
       "      <td>0.77</td>\n",
       "      <td>1.00</td>\n",
       "      <td>0.08</td>\n",
       "      <td>0.12</td>\n",
       "      <td>0.10</td>\n",
       "      <td>0.51</td>\n",
       "      <td>0.50</td>\n",
       "      <td>0.34</td>\n",
       "      <td>0.21</td>\n",
       "      <td>...</td>\n",
       "      <td>0.0</td>\n",
       "      <td>0.19</td>\n",
       "      <td>0.30</td>\n",
       "      <td>0.73</td>\n",
       "      <td>0.64</td>\n",
       "      <td>0.65</td>\n",
       "      <td>0.02</td>\n",
       "      <td>0.39</td>\n",
       "      <td>0.28</td>\n",
       "      <td>0.12</td>\n",
       "    </tr>\n",
       "    <tr>\n",
       "      <th>4</th>\n",
       "      <td>0.01</td>\n",
       "      <td>0.55</td>\n",
       "      <td>0.02</td>\n",
       "      <td>0.95</td>\n",
       "      <td>0.09</td>\n",
       "      <td>0.05</td>\n",
       "      <td>0.38</td>\n",
       "      <td>0.38</td>\n",
       "      <td>0.23</td>\n",
       "      <td>0.36</td>\n",
       "      <td>...</td>\n",
       "      <td>0.0</td>\n",
       "      <td>0.11</td>\n",
       "      <td>0.72</td>\n",
       "      <td>0.64</td>\n",
       "      <td>0.61</td>\n",
       "      <td>0.53</td>\n",
       "      <td>0.04</td>\n",
       "      <td>0.09</td>\n",
       "      <td>0.02</td>\n",
       "      <td>0.03</td>\n",
       "    </tr>\n",
       "  </tbody>\n",
       "</table>\n",
       "<p>5 rows × 98 columns</p>\n",
       "</div>"
      ],
      "text/plain": [
       "   population  householdsize  racepctblack  racePctWhite  racePctAsian  \\\n",
       "0        0.19           0.33          0.02          0.90          0.12   \n",
       "1        0.00           0.16          0.12          0.74          0.45   \n",
       "2        0.00           0.42          0.49          0.56          0.17   \n",
       "3        0.04           0.77          1.00          0.08          0.12   \n",
       "4        0.01           0.55          0.02          0.95          0.09   \n",
       "\n",
       "   racePctHisp  agePct12t21  agePct12t29  agePct16t24  agePct65up  \\\n",
       "0         0.17         0.34         0.47         0.29        0.32   \n",
       "1         0.07         0.26         0.59         0.35        0.27   \n",
       "2         0.04         0.39         0.47         0.28        0.32   \n",
       "3         0.10         0.51         0.50         0.34        0.21   \n",
       "4         0.05         0.38         0.38         0.23        0.36   \n",
       "\n",
       "          ...           NumStreet  PctForeignBorn  PctBornSameState  \\\n",
       "0         ...                 0.0            0.12              0.42   \n",
       "1         ...                 0.0            0.21              0.50   \n",
       "2         ...                 0.0            0.14              0.49   \n",
       "3         ...                 0.0            0.19              0.30   \n",
       "4         ...                 0.0            0.11              0.72   \n",
       "\n",
       "   PctSameHouse85  PctSameCity85  PctSameState85  LandArea  PopDens  \\\n",
       "0            0.50           0.51            0.64      0.12     0.26   \n",
       "1            0.34           0.60            0.52      0.02     0.12   \n",
       "2            0.54           0.67            0.56      0.01     0.21   \n",
       "3            0.73           0.64            0.65      0.02     0.39   \n",
       "4            0.64           0.61            0.53      0.04     0.09   \n",
       "\n",
       "   PctUsePubTrans  ViolentCrimesPerPop  \n",
       "0            0.20                 0.20  \n",
       "1            0.45                 0.67  \n",
       "2            0.02                 0.43  \n",
       "3            0.28                 0.12  \n",
       "4            0.02                 0.03  \n",
       "\n",
       "[5 rows x 98 columns]"
      ]
     },
     "execution_count": 11,
     "metadata": {},
     "output_type": "execute_result"
    }
   ],
   "source": [
    "comm_.head()"
   ]
  },
  {
   "cell_type": "code",
   "execution_count": 12,
   "metadata": {
    "collapsed": true
   },
   "outputs": [],
   "source": [
    "#The site describing the data lists a \"County\" feature which does not exist.\n",
    "#The actual data does include a 'Community Name' feature that is not listed on the site. "
   ]
  },
  {
   "cell_type": "code",
   "execution_count": 13,
   "metadata": {},
   "outputs": [
    {
     "data": {
      "text/html": [
       "<div>\n",
       "<table border=\"1\" class=\"dataframe\">\n",
       "  <thead>\n",
       "    <tr style=\"text-align: right;\">\n",
       "      <th></th>\n",
       "      <th>population</th>\n",
       "      <th>householdsize</th>\n",
       "      <th>racepctblack</th>\n",
       "      <th>racePctWhite</th>\n",
       "      <th>racePctAsian</th>\n",
       "      <th>racePctHisp</th>\n",
       "      <th>agePct12t21</th>\n",
       "      <th>agePct12t29</th>\n",
       "      <th>agePct16t24</th>\n",
       "      <th>agePct65up</th>\n",
       "      <th>...</th>\n",
       "      <th>NumStreet</th>\n",
       "      <th>PctForeignBorn</th>\n",
       "      <th>PctBornSameState</th>\n",
       "      <th>PctSameHouse85</th>\n",
       "      <th>PctSameCity85</th>\n",
       "      <th>PctSameState85</th>\n",
       "      <th>LandArea</th>\n",
       "      <th>PopDens</th>\n",
       "      <th>PctUsePubTrans</th>\n",
       "      <th>ViolentCrimesPerPop</th>\n",
       "    </tr>\n",
       "  </thead>\n",
       "  <tbody>\n",
       "    <tr>\n",
       "      <th>count</th>\n",
       "      <td>1993.000000</td>\n",
       "      <td>1993.000000</td>\n",
       "      <td>1993.000000</td>\n",
       "      <td>1993.000000</td>\n",
       "      <td>1993.000000</td>\n",
       "      <td>1993.000000</td>\n",
       "      <td>1993.000000</td>\n",
       "      <td>1993.000000</td>\n",
       "      <td>1993.000000</td>\n",
       "      <td>1993.000000</td>\n",
       "      <td>...</td>\n",
       "      <td>1993.000000</td>\n",
       "      <td>1993.000000</td>\n",
       "      <td>1993.000000</td>\n",
       "      <td>1993.000000</td>\n",
       "      <td>1993.000000</td>\n",
       "      <td>1993.000000</td>\n",
       "      <td>1993.000000</td>\n",
       "      <td>1993.000000</td>\n",
       "      <td>1993.000000</td>\n",
       "      <td>1993.000000</td>\n",
       "    </tr>\n",
       "    <tr>\n",
       "      <th>mean</th>\n",
       "      <td>0.057612</td>\n",
       "      <td>0.463437</td>\n",
       "      <td>0.179227</td>\n",
       "      <td>0.753984</td>\n",
       "      <td>0.153753</td>\n",
       "      <td>0.144089</td>\n",
       "      <td>0.424210</td>\n",
       "      <td>0.493914</td>\n",
       "      <td>0.336297</td>\n",
       "      <td>0.423086</td>\n",
       "      <td>...</td>\n",
       "      <td>0.022790</td>\n",
       "      <td>0.215655</td>\n",
       "      <td>0.608776</td>\n",
       "      <td>0.534967</td>\n",
       "      <td>0.626322</td>\n",
       "      <td>0.651470</td>\n",
       "      <td>0.065243</td>\n",
       "      <td>0.232910</td>\n",
       "      <td>0.161741</td>\n",
       "      <td>0.237983</td>\n",
       "    </tr>\n",
       "    <tr>\n",
       "      <th>std</th>\n",
       "      <td>0.126935</td>\n",
       "      <td>0.163747</td>\n",
       "      <td>0.252870</td>\n",
       "      <td>0.243807</td>\n",
       "      <td>0.208905</td>\n",
       "      <td>0.232531</td>\n",
       "      <td>0.155234</td>\n",
       "      <td>0.143584</td>\n",
       "      <td>0.166540</td>\n",
       "      <td>0.179196</td>\n",
       "      <td>...</td>\n",
       "      <td>0.100424</td>\n",
       "      <td>0.231146</td>\n",
       "      <td>0.204314</td>\n",
       "      <td>0.181360</td>\n",
       "      <td>0.200520</td>\n",
       "      <td>0.198253</td>\n",
       "      <td>0.109485</td>\n",
       "      <td>0.203127</td>\n",
       "      <td>0.229099</td>\n",
       "      <td>0.233043</td>\n",
       "    </tr>\n",
       "    <tr>\n",
       "      <th>min</th>\n",
       "      <td>0.000000</td>\n",
       "      <td>0.000000</td>\n",
       "      <td>0.000000</td>\n",
       "      <td>0.000000</td>\n",
       "      <td>0.000000</td>\n",
       "      <td>0.000000</td>\n",
       "      <td>0.000000</td>\n",
       "      <td>0.000000</td>\n",
       "      <td>0.000000</td>\n",
       "      <td>0.000000</td>\n",
       "      <td>...</td>\n",
       "      <td>0.000000</td>\n",
       "      <td>0.000000</td>\n",
       "      <td>0.000000</td>\n",
       "      <td>0.000000</td>\n",
       "      <td>0.000000</td>\n",
       "      <td>0.000000</td>\n",
       "      <td>0.000000</td>\n",
       "      <td>0.000000</td>\n",
       "      <td>0.000000</td>\n",
       "      <td>0.000000</td>\n",
       "    </tr>\n",
       "    <tr>\n",
       "      <th>25%</th>\n",
       "      <td>0.010000</td>\n",
       "      <td>0.350000</td>\n",
       "      <td>0.020000</td>\n",
       "      <td>0.630000</td>\n",
       "      <td>0.040000</td>\n",
       "      <td>0.010000</td>\n",
       "      <td>0.340000</td>\n",
       "      <td>0.410000</td>\n",
       "      <td>0.250000</td>\n",
       "      <td>0.300000</td>\n",
       "      <td>...</td>\n",
       "      <td>0.000000</td>\n",
       "      <td>0.060000</td>\n",
       "      <td>0.470000</td>\n",
       "      <td>0.420000</td>\n",
       "      <td>0.520000</td>\n",
       "      <td>0.560000</td>\n",
       "      <td>0.020000</td>\n",
       "      <td>0.100000</td>\n",
       "      <td>0.020000</td>\n",
       "      <td>0.070000</td>\n",
       "    </tr>\n",
       "    <tr>\n",
       "      <th>50%</th>\n",
       "      <td>0.020000</td>\n",
       "      <td>0.440000</td>\n",
       "      <td>0.060000</td>\n",
       "      <td>0.850000</td>\n",
       "      <td>0.070000</td>\n",
       "      <td>0.040000</td>\n",
       "      <td>0.400000</td>\n",
       "      <td>0.480000</td>\n",
       "      <td>0.290000</td>\n",
       "      <td>0.420000</td>\n",
       "      <td>...</td>\n",
       "      <td>0.000000</td>\n",
       "      <td>0.130000</td>\n",
       "      <td>0.630000</td>\n",
       "      <td>0.540000</td>\n",
       "      <td>0.670000</td>\n",
       "      <td>0.700000</td>\n",
       "      <td>0.040000</td>\n",
       "      <td>0.170000</td>\n",
       "      <td>0.070000</td>\n",
       "      <td>0.150000</td>\n",
       "    </tr>\n",
       "    <tr>\n",
       "      <th>75%</th>\n",
       "      <td>0.050000</td>\n",
       "      <td>0.540000</td>\n",
       "      <td>0.230000</td>\n",
       "      <td>0.940000</td>\n",
       "      <td>0.170000</td>\n",
       "      <td>0.160000</td>\n",
       "      <td>0.470000</td>\n",
       "      <td>0.540000</td>\n",
       "      <td>0.360000</td>\n",
       "      <td>0.530000</td>\n",
       "      <td>...</td>\n",
       "      <td>0.000000</td>\n",
       "      <td>0.280000</td>\n",
       "      <td>0.770000</td>\n",
       "      <td>0.660000</td>\n",
       "      <td>0.770000</td>\n",
       "      <td>0.790000</td>\n",
       "      <td>0.070000</td>\n",
       "      <td>0.280000</td>\n",
       "      <td>0.190000</td>\n",
       "      <td>0.330000</td>\n",
       "    </tr>\n",
       "    <tr>\n",
       "      <th>max</th>\n",
       "      <td>1.000000</td>\n",
       "      <td>1.000000</td>\n",
       "      <td>1.000000</td>\n",
       "      <td>1.000000</td>\n",
       "      <td>1.000000</td>\n",
       "      <td>1.000000</td>\n",
       "      <td>1.000000</td>\n",
       "      <td>1.000000</td>\n",
       "      <td>1.000000</td>\n",
       "      <td>1.000000</td>\n",
       "      <td>...</td>\n",
       "      <td>1.000000</td>\n",
       "      <td>1.000000</td>\n",
       "      <td>1.000000</td>\n",
       "      <td>1.000000</td>\n",
       "      <td>1.000000</td>\n",
       "      <td>1.000000</td>\n",
       "      <td>1.000000</td>\n",
       "      <td>1.000000</td>\n",
       "      <td>1.000000</td>\n",
       "      <td>1.000000</td>\n",
       "    </tr>\n",
       "  </tbody>\n",
       "</table>\n",
       "<p>8 rows × 98 columns</p>\n",
       "</div>"
      ],
      "text/plain": [
       "        population  householdsize  racepctblack  racePctWhite  racePctAsian  \\\n",
       "count  1993.000000    1993.000000   1993.000000   1993.000000   1993.000000   \n",
       "mean      0.057612       0.463437      0.179227      0.753984      0.153753   \n",
       "std       0.126935       0.163747      0.252870      0.243807      0.208905   \n",
       "min       0.000000       0.000000      0.000000      0.000000      0.000000   \n",
       "25%       0.010000       0.350000      0.020000      0.630000      0.040000   \n",
       "50%       0.020000       0.440000      0.060000      0.850000      0.070000   \n",
       "75%       0.050000       0.540000      0.230000      0.940000      0.170000   \n",
       "max       1.000000       1.000000      1.000000      1.000000      1.000000   \n",
       "\n",
       "       racePctHisp  agePct12t21  agePct12t29  agePct16t24   agePct65up  \\\n",
       "count  1993.000000  1993.000000  1993.000000  1993.000000  1993.000000   \n",
       "mean      0.144089     0.424210     0.493914     0.336297     0.423086   \n",
       "std       0.232531     0.155234     0.143584     0.166540     0.179196   \n",
       "min       0.000000     0.000000     0.000000     0.000000     0.000000   \n",
       "25%       0.010000     0.340000     0.410000     0.250000     0.300000   \n",
       "50%       0.040000     0.400000     0.480000     0.290000     0.420000   \n",
       "75%       0.160000     0.470000     0.540000     0.360000     0.530000   \n",
       "max       1.000000     1.000000     1.000000     1.000000     1.000000   \n",
       "\n",
       "              ...             NumStreet  PctForeignBorn  PctBornSameState  \\\n",
       "count         ...           1993.000000     1993.000000       1993.000000   \n",
       "mean          ...              0.022790        0.215655          0.608776   \n",
       "std           ...              0.100424        0.231146          0.204314   \n",
       "min           ...              0.000000        0.000000          0.000000   \n",
       "25%           ...              0.000000        0.060000          0.470000   \n",
       "50%           ...              0.000000        0.130000          0.630000   \n",
       "75%           ...              0.000000        0.280000          0.770000   \n",
       "max           ...              1.000000        1.000000          1.000000   \n",
       "\n",
       "       PctSameHouse85  PctSameCity85  PctSameState85     LandArea  \\\n",
       "count     1993.000000    1993.000000     1993.000000  1993.000000   \n",
       "mean         0.534967       0.626322        0.651470     0.065243   \n",
       "std          0.181360       0.200520        0.198253     0.109485   \n",
       "min          0.000000       0.000000        0.000000     0.000000   \n",
       "25%          0.420000       0.520000        0.560000     0.020000   \n",
       "50%          0.540000       0.670000        0.700000     0.040000   \n",
       "75%          0.660000       0.770000        0.790000     0.070000   \n",
       "max          1.000000       1.000000        1.000000     1.000000   \n",
       "\n",
       "           PopDens  PctUsePubTrans  ViolentCrimesPerPop  \n",
       "count  1993.000000     1993.000000          1993.000000  \n",
       "mean      0.232910        0.161741             0.237983  \n",
       "std       0.203127        0.229099             0.233043  \n",
       "min       0.000000        0.000000             0.000000  \n",
       "25%       0.100000        0.020000             0.070000  \n",
       "50%       0.170000        0.070000             0.150000  \n",
       "75%       0.280000        0.190000             0.330000  \n",
       "max       1.000000        1.000000             1.000000  \n",
       "\n",
       "[8 rows x 98 columns]"
      ]
     },
     "execution_count": 13,
     "metadata": {},
     "output_type": "execute_result"
    }
   ],
   "source": [
    "comm_.describe()"
   ]
  },
  {
   "cell_type": "code",
   "execution_count": 14,
   "metadata": {},
   "outputs": [
    {
     "data": {
      "text/html": [
       "<div>\n",
       "<table border=\"1\" class=\"dataframe\">\n",
       "  <thead>\n",
       "    <tr style=\"text-align: right;\">\n",
       "      <th></th>\n",
       "      <th>population</th>\n",
       "      <th>householdsize</th>\n",
       "      <th>racepctblack</th>\n",
       "      <th>racePctWhite</th>\n",
       "      <th>racePctAsian</th>\n",
       "      <th>racePctHisp</th>\n",
       "      <th>agePct12t21</th>\n",
       "      <th>agePct12t29</th>\n",
       "      <th>agePct16t24</th>\n",
       "      <th>agePct65up</th>\n",
       "      <th>...</th>\n",
       "      <th>NumInShelters</th>\n",
       "      <th>NumStreet</th>\n",
       "      <th>PctForeignBorn</th>\n",
       "      <th>PctBornSameState</th>\n",
       "      <th>PctSameHouse85</th>\n",
       "      <th>PctSameCity85</th>\n",
       "      <th>PctSameState85</th>\n",
       "      <th>LandArea</th>\n",
       "      <th>PopDens</th>\n",
       "      <th>PctUsePubTrans</th>\n",
       "    </tr>\n",
       "  </thead>\n",
       "  <tbody>\n",
       "    <tr>\n",
       "      <th>0</th>\n",
       "      <td>0.19</td>\n",
       "      <td>0.33</td>\n",
       "      <td>0.02</td>\n",
       "      <td>0.90</td>\n",
       "      <td>0.12</td>\n",
       "      <td>0.17</td>\n",
       "      <td>0.34</td>\n",
       "      <td>0.47</td>\n",
       "      <td>0.29</td>\n",
       "      <td>0.32</td>\n",
       "      <td>...</td>\n",
       "      <td>0.04</td>\n",
       "      <td>0.0</td>\n",
       "      <td>0.12</td>\n",
       "      <td>0.42</td>\n",
       "      <td>0.50</td>\n",
       "      <td>0.51</td>\n",
       "      <td>0.64</td>\n",
       "      <td>0.12</td>\n",
       "      <td>0.26</td>\n",
       "      <td>0.20</td>\n",
       "    </tr>\n",
       "    <tr>\n",
       "      <th>1</th>\n",
       "      <td>0.00</td>\n",
       "      <td>0.16</td>\n",
       "      <td>0.12</td>\n",
       "      <td>0.74</td>\n",
       "      <td>0.45</td>\n",
       "      <td>0.07</td>\n",
       "      <td>0.26</td>\n",
       "      <td>0.59</td>\n",
       "      <td>0.35</td>\n",
       "      <td>0.27</td>\n",
       "      <td>...</td>\n",
       "      <td>0.00</td>\n",
       "      <td>0.0</td>\n",
       "      <td>0.21</td>\n",
       "      <td>0.50</td>\n",
       "      <td>0.34</td>\n",
       "      <td>0.60</td>\n",
       "      <td>0.52</td>\n",
       "      <td>0.02</td>\n",
       "      <td>0.12</td>\n",
       "      <td>0.45</td>\n",
       "    </tr>\n",
       "    <tr>\n",
       "      <th>2</th>\n",
       "      <td>0.00</td>\n",
       "      <td>0.42</td>\n",
       "      <td>0.49</td>\n",
       "      <td>0.56</td>\n",
       "      <td>0.17</td>\n",
       "      <td>0.04</td>\n",
       "      <td>0.39</td>\n",
       "      <td>0.47</td>\n",
       "      <td>0.28</td>\n",
       "      <td>0.32</td>\n",
       "      <td>...</td>\n",
       "      <td>0.00</td>\n",
       "      <td>0.0</td>\n",
       "      <td>0.14</td>\n",
       "      <td>0.49</td>\n",
       "      <td>0.54</td>\n",
       "      <td>0.67</td>\n",
       "      <td>0.56</td>\n",
       "      <td>0.01</td>\n",
       "      <td>0.21</td>\n",
       "      <td>0.02</td>\n",
       "    </tr>\n",
       "    <tr>\n",
       "      <th>3</th>\n",
       "      <td>0.04</td>\n",
       "      <td>0.77</td>\n",
       "      <td>1.00</td>\n",
       "      <td>0.08</td>\n",
       "      <td>0.12</td>\n",
       "      <td>0.10</td>\n",
       "      <td>0.51</td>\n",
       "      <td>0.50</td>\n",
       "      <td>0.34</td>\n",
       "      <td>0.21</td>\n",
       "      <td>...</td>\n",
       "      <td>0.00</td>\n",
       "      <td>0.0</td>\n",
       "      <td>0.19</td>\n",
       "      <td>0.30</td>\n",
       "      <td>0.73</td>\n",
       "      <td>0.64</td>\n",
       "      <td>0.65</td>\n",
       "      <td>0.02</td>\n",
       "      <td>0.39</td>\n",
       "      <td>0.28</td>\n",
       "    </tr>\n",
       "    <tr>\n",
       "      <th>4</th>\n",
       "      <td>0.01</td>\n",
       "      <td>0.55</td>\n",
       "      <td>0.02</td>\n",
       "      <td>0.95</td>\n",
       "      <td>0.09</td>\n",
       "      <td>0.05</td>\n",
       "      <td>0.38</td>\n",
       "      <td>0.38</td>\n",
       "      <td>0.23</td>\n",
       "      <td>0.36</td>\n",
       "      <td>...</td>\n",
       "      <td>0.00</td>\n",
       "      <td>0.0</td>\n",
       "      <td>0.11</td>\n",
       "      <td>0.72</td>\n",
       "      <td>0.64</td>\n",
       "      <td>0.61</td>\n",
       "      <td>0.53</td>\n",
       "      <td>0.04</td>\n",
       "      <td>0.09</td>\n",
       "      <td>0.02</td>\n",
       "    </tr>\n",
       "  </tbody>\n",
       "</table>\n",
       "<p>5 rows × 97 columns</p>\n",
       "</div>"
      ],
      "text/plain": [
       "   population  householdsize  racepctblack  racePctWhite  racePctAsian  \\\n",
       "0        0.19           0.33          0.02          0.90          0.12   \n",
       "1        0.00           0.16          0.12          0.74          0.45   \n",
       "2        0.00           0.42          0.49          0.56          0.17   \n",
       "3        0.04           0.77          1.00          0.08          0.12   \n",
       "4        0.01           0.55          0.02          0.95          0.09   \n",
       "\n",
       "   racePctHisp  agePct12t21  agePct12t29  agePct16t24  agePct65up  \\\n",
       "0         0.17         0.34         0.47         0.29        0.32   \n",
       "1         0.07         0.26         0.59         0.35        0.27   \n",
       "2         0.04         0.39         0.47         0.28        0.32   \n",
       "3         0.10         0.51         0.50         0.34        0.21   \n",
       "4         0.05         0.38         0.38         0.23        0.36   \n",
       "\n",
       "        ...        NumInShelters  NumStreet  PctForeignBorn  PctBornSameState  \\\n",
       "0       ...                 0.04        0.0            0.12              0.42   \n",
       "1       ...                 0.00        0.0            0.21              0.50   \n",
       "2       ...                 0.00        0.0            0.14              0.49   \n",
       "3       ...                 0.00        0.0            0.19              0.30   \n",
       "4       ...                 0.00        0.0            0.11              0.72   \n",
       "\n",
       "   PctSameHouse85  PctSameCity85  PctSameState85  LandArea  PopDens  \\\n",
       "0            0.50           0.51            0.64      0.12     0.26   \n",
       "1            0.34           0.60            0.52      0.02     0.12   \n",
       "2            0.54           0.67            0.56      0.01     0.21   \n",
       "3            0.73           0.64            0.65      0.02     0.39   \n",
       "4            0.64           0.61            0.53      0.04     0.09   \n",
       "\n",
       "   PctUsePubTrans  \n",
       "0            0.20  \n",
       "1            0.45  \n",
       "2            0.02  \n",
       "3            0.28  \n",
       "4            0.02  \n",
       "\n",
       "[5 rows x 97 columns]"
      ]
     },
     "execution_count": 14,
     "metadata": {},
     "output_type": "execute_result"
    }
   ],
   "source": [
    "#Remove target variable\n",
    "comm_records = comm_.iloc[:,0:97]\n",
    "comm_target = comm_.iloc[:,97]\n",
    "comm_records.head()"
   ]
  },
  {
   "cell_type": "code",
   "execution_count": 15,
   "metadata": {},
   "outputs": [
    {
     "data": {
      "text/plain": [
       "0    0.20\n",
       "1    0.67\n",
       "2    0.43\n",
       "3    0.12\n",
       "4    0.03\n",
       "Name: ViolentCrimesPerPop, dtype: float64"
      ]
     },
     "execution_count": 15,
     "metadata": {},
     "output_type": "execute_result"
    }
   ],
   "source": [
    "comm_target.head()"
   ]
  },
  {
   "cell_type": "code",
   "execution_count": 16,
   "metadata": {},
   "outputs": [
    {
     "data": {
      "text/plain": [
       "(1993,)"
      ]
     },
     "execution_count": 16,
     "metadata": {},
     "output_type": "execute_result"
    }
   ],
   "source": [
    "comm_target.shape"
   ]
  },
  {
   "cell_type": "code",
   "execution_count": 17,
   "metadata": {
    "collapsed": true
   },
   "outputs": [],
   "source": [
    "comm_records = comm_records.as_matrix()\n",
    "comm_target = comm_target.as_matrix()"
   ]
  },
  {
   "cell_type": "code",
   "execution_count": 18,
   "metadata": {},
   "outputs": [
    {
     "data": {
      "text/plain": [
       "'b. Perform standard linear regression. Compute the RMSE value on the full training data. \\nPlot the correlation between predicted and actual values of the target attribute. \\nDisplay the weights. Perform 10-fold cross-validation.\\nCompare cross-validation RMSE to the training RMSE.'"
      ]
     },
     "execution_count": 18,
     "metadata": {},
     "output_type": "execute_result"
    }
   ],
   "source": [
    "#####################\n",
    "#Part b\n",
    "#####################\n",
    "'''b. Perform standard linear regression. Compute the RMSE value on the full training data. \n",
    "Plot the correlation between predicted and actual values of the target attribute. \n",
    "Display the weights. Perform 10-fold cross-validation.\n",
    "Compare cross-validation RMSE to the training RMSE.'''"
   ]
  },
  {
   "cell_type": "code",
   "execution_count": 19,
   "metadata": {
    "collapsed": true
   },
   "outputs": [],
   "source": [
    "#Add column of 1s\n",
    "x = np.array([np.concatenate((v,[1])) for v in comm_records])\n",
    "y = comm_target"
   ]
  },
  {
   "cell_type": "code",
   "execution_count": 20,
   "metadata": {},
   "outputs": [
    {
     "name": "stdout",
     "output_type": "stream",
     "text": [
      "[ 0.2   0.67  0.43  0.12  0.03  0.14  0.03  0.55  0.53  0.15]\n"
     ]
    }
   ],
   "source": [
    "#check data\n",
    "print (y[:10])\n",
    "#print (x[:10])"
   ]
  },
  {
   "cell_type": "code",
   "execution_count": 21,
   "metadata": {
    "collapsed": true
   },
   "outputs": [],
   "source": [
    "#USING CHAPTER 8 METHOD"
   ]
  },
  {
   "cell_type": "code",
   "execution_count": 22,
   "metadata": {
    "collapsed": true
   },
   "outputs": [],
   "source": [
    "def standRegres(xArr, yArr):\n",
    "    xMat = np.mat(xArr); yMat = np.mat(yArr).T\n",
    "    xTx = xMat.T*xMat\n",
    "    if np.linalg.det(xTx) == 0.0:\n",
    "        print (\"This matrix is singular, cannot do inverse\")\n",
    "        return\n",
    "    ws = xTx.I * (xMat.T*yMat)\n",
    "    return ws"
   ]
  },
  {
   "cell_type": "code",
   "execution_count": 23,
   "metadata": {
    "collapsed": true
   },
   "outputs": [],
   "source": [
    "w = standRegres(x,y)"
   ]
  },
  {
   "cell_type": "code",
   "execution_count": 24,
   "metadata": {},
   "outputs": [
    {
     "name": "stdout",
     "output_type": "stream",
     "text": [
      "[[  1.58394687e-01]\n",
      " [ -3.02481869e-02]\n",
      " [  2.12229063e-01]\n",
      " [ -3.97237986e-02]\n",
      " [ -1.27930326e-02]\n",
      " [  6.36900639e-02]\n",
      " [  1.22194419e-01]\n",
      " [ -2.23124229e-01]\n",
      " [ -1.42627637e-01]\n",
      " [  5.64658800e-02]\n",
      " [ -2.60230134e-01]\n",
      " [  4.65037847e-02]\n",
      " [ -2.00798143e-01]\n",
      " [ -2.08126761e-01]\n",
      " [  4.70792802e-02]\n",
      " [ -1.73534979e-01]\n",
      " [  5.82291674e-02]\n",
      " [  1.05064444e-02]\n",
      " [ -9.22106451e-02]\n",
      " [  2.72565616e-01]\n",
      " [  9.72713359e-02]\n",
      " [ -3.26302914e-01]\n",
      " [ -2.89431388e-02]\n",
      " [ -3.59461641e-02]\n",
      " [  2.28885702e-02]\n",
      " [  4.31169895e-02]\n",
      " [  3.76737976e-02]\n",
      " [  1.19950473e-01]\n",
      " [ -1.83693623e-01]\n",
      " [ -9.47657739e-02]\n",
      " [  5.55240764e-02]\n",
      " [  1.07281673e-01]\n",
      " [  3.24692051e-03]\n",
      " [  2.34646790e-01]\n",
      " [ -3.87649999e-02]\n",
      " [ -1.03179240e-02]\n",
      " [  4.87331629e-01]\n",
      " [  2.23501778e-01]\n",
      " [  1.95680279e-01]\n",
      " [ -6.09603366e-01]\n",
      " [ -1.37531328e-01]\n",
      " [  5.78881584e-02]\n",
      " [ -3.48705517e-01]\n",
      " [ -3.63011027e-02]\n",
      " [  3.18567061e-04]\n",
      " [  5.73144283e-02]\n",
      " [ -1.83223819e-01]\n",
      " [ -1.56736510e-01]\n",
      " [  1.30876568e-01]\n",
      " [ -1.42989741e-01]\n",
      " [  2.41003168e-02]\n",
      " [  3.51231959e-02]\n",
      " [ -7.51880947e-02]\n",
      " [  3.13067150e-02]\n",
      " [ -3.09769559e-02]\n",
      " [ -2.23123389e-01]\n",
      " [  4.44778318e-01]\n",
      " [ -1.90505607e-01]\n",
      " [ -2.11867268e-02]\n",
      " [ -1.39832020e-01]\n",
      " [  5.72276516e-02]\n",
      " [ -2.07798143e-01]\n",
      " [  6.47474344e-01]\n",
      " [ -7.48614235e-02]\n",
      " [ -2.50464211e-01]\n",
      " [ -6.69267650e-01]\n",
      " [  1.97555120e-01]\n",
      " [  1.03772298e-01]\n",
      " [  2.93735670e-02]\n",
      " [  1.66760060e-01]\n",
      " [ -4.08619231e-02]\n",
      " [  5.60042500e-01]\n",
      " [  4.53308898e-02]\n",
      " [ -7.74693964e-02]\n",
      " [ -2.95662893e-02]\n",
      " [  8.75265792e-03]\n",
      " [ -1.36583666e-02]\n",
      " [ -3.44122989e-01]\n",
      " [  2.70216168e-01]\n",
      " [  8.56985376e-03]\n",
      " [ -2.34032103e-01]\n",
      " [ -3.72752186e-02]\n",
      " [ -6.34433398e-02]\n",
      " [  3.76117090e-01]\n",
      " [  3.92332673e-02]\n",
      " [ -4.37652624e-02]\n",
      " [ -8.08701392e-02]\n",
      " [  1.31163307e-01]\n",
      " [  1.83394279e-01]\n",
      " [  1.22680856e-01]\n",
      " [  6.42109584e-03]\n",
      " [ -2.03383095e-02]\n",
      " [  2.94915376e-02]\n",
      " [  1.14868587e-02]\n",
      " [  2.59657369e-02]\n",
      " [ -1.25052609e-02]\n",
      " [ -3.78848193e-02]\n",
      " [  5.74152313e-01]]\n"
     ]
    }
   ],
   "source": [
    "print (w)"
   ]
  },
  {
   "cell_type": "code",
   "execution_count": 25,
   "metadata": {
    "collapsed": true
   },
   "outputs": [],
   "source": [
    "xMat = np.mat(x)\n",
    "yMat = np.mat(y)\n",
    "yHat = xMat*w"
   ]
  },
  {
   "cell_type": "code",
   "execution_count": 26,
   "metadata": {},
   "outputs": [
    {
     "name": "stdout",
     "output_type": "stream",
     "text": [
      "[[ 0.16737003]\n",
      " [ 0.28880518]\n",
      " [ 0.38345896]\n",
      " [ 0.32245128]\n",
      " [-0.02151414]\n",
      " [ 0.22892417]\n",
      " [ 0.08683231]\n",
      " [ 0.44501395]\n",
      " [ 0.23855727]\n",
      " [ 0.00581013]]\n"
     ]
    }
   ],
   "source": [
    "print (yHat[0:10])"
   ]
  },
  {
   "cell_type": "code",
   "execution_count": 27,
   "metadata": {},
   "outputs": [
    {
     "name": "stdout",
     "output_type": "stream",
     "text": [
      "[[ 0.2 ]\n",
      " [ 0.67]\n",
      " [ 0.43]\n",
      " [ 0.12]\n",
      " [ 0.03]\n",
      " [ 0.14]\n",
      " [ 0.03]\n",
      " [ 0.55]\n",
      " [ 0.53]\n",
      " [ 0.15]]\n"
     ]
    }
   ],
   "source": [
    "print (yMat.T[0:10])"
   ]
  },
  {
   "cell_type": "code",
   "execution_count": 28,
   "metadata": {},
   "outputs": [
    {
     "name": "stdout",
     "output_type": "stream",
     "text": [
      "[[ 0.03262997]\n",
      " [ 0.38119482]\n",
      " [ 0.04654104]\n",
      " [ 0.20245128]\n",
      " [ 0.05151414]\n",
      " [ 0.08892417]\n",
      " [ 0.05683231]\n",
      " [ 0.10498605]\n",
      " [ 0.29144273]\n",
      " [ 0.14418987]]\n"
     ]
    }
   ],
   "source": [
    "#Compute RMSE\n",
    "err = abs(yHat-yMat.T)\n",
    "print (err[:10])"
   ]
  },
  {
   "cell_type": "code",
   "execution_count": 29,
   "metadata": {},
   "outputs": [
    {
     "name": "stdout",
     "output_type": "stream",
     "text": [
      "[[ 0.12869119]]\n"
     ]
    }
   ],
   "source": [
    "total_error = np.dot(err.T,err)\n",
    "rmse_train = np.sqrt(total_error/len(err))\n",
    "print (rmse_train)"
   ]
  },
  {
   "cell_type": "code",
   "execution_count": 30,
   "metadata": {
    "collapsed": true
   },
   "outputs": [],
   "source": [
    "#USING LINEARREGRESSION in SKLEARN"
   ]
  },
  {
   "cell_type": "code",
   "execution_count": 31,
   "metadata": {},
   "outputs": [
    {
     "data": {
      "text/plain": [
       "LinearRegression(copy_X=True, fit_intercept=True, n_jobs=1, normalize=False)"
      ]
     },
     "execution_count": 31,
     "metadata": {},
     "output_type": "execute_result"
    }
   ],
   "source": [
    "#Train model using training set\n",
    "linreg = LinearRegression()\n",
    "linreg.fit(x,y)"
   ]
  },
  {
   "cell_type": "code",
   "execution_count": 32,
   "metadata": {},
   "outputs": [
    {
     "name": "stdout",
     "output_type": "stream",
     "text": [
      "[ 0.16737003  0.28880518  0.38345896  0.32245128 -0.02151414  0.22892417\n",
      "  0.08683231  0.44501395  0.23855727  0.00581013]\n"
     ]
    }
   ],
   "source": [
    "#view predictions\n",
    "print (linreg.predict(x[:10]))"
   ]
  },
  {
   "cell_type": "code",
   "execution_count": 33,
   "metadata": {
    "collapsed": true
   },
   "outputs": [],
   "source": [
    "#Compute RMSE "
   ]
  },
  {
   "cell_type": "code",
   "execution_count": 34,
   "metadata": {},
   "outputs": [
    {
     "name": "stdout",
     "output_type": "stream",
     "text": [
      "[ 0.03262997  0.38119482  0.04654104  0.20245128  0.05151414  0.08892417\n",
      "  0.05683231  0.10498605  0.29144273  0.14418987]\n"
     ]
    }
   ],
   "source": [
    "p = linreg.predict(x)\n",
    "err = abs(p-y)\n",
    "print (err[:10])"
   ]
  },
  {
   "cell_type": "code",
   "execution_count": 35,
   "metadata": {},
   "outputs": [
    {
     "name": "stdout",
     "output_type": "stream",
     "text": [
      "0.128691194406\n"
     ]
    }
   ],
   "source": [
    "total_error = np.dot(err,err)\n",
    "rmse_train = np.sqrt(total_error/len(p))\n",
    "print (rmse_train)"
   ]
  },
  {
   "cell_type": "code",
   "execution_count": 36,
   "metadata": {},
   "outputs": [
    {
     "data": {
      "image/png": "[encoded data removed]",
      "text/plain": [
       "<matplotlib.figure.Figure at 0x16586a8f198>"
      ]
     },
     "metadata": {},
     "output_type": "display_data"
    }
   ],
   "source": [
    "#Plot the correlation between predicted and actual values of the target attribute.\n",
    "pl.plot(p,y,'ro')\n",
    "pl.plot([0,1],[0,1],'g-')\n",
    "pl.xlabel('predicted')\n",
    "pl.ylabel('real')\n",
    "pl.show()"
   ]
  },
  {
   "cell_type": "code",
   "execution_count": 37,
   "metadata": {},
   "outputs": [
    {
     "name": "stdout",
     "output_type": "stream",
     "text": [
      "Regression Coefficients: \n",
      " [  1.58394687e-01  -3.02481869e-02   2.12229063e-01  -3.97237986e-02\n",
      "  -1.27930326e-02   6.36900639e-02   1.22194419e-01  -2.23124229e-01\n",
      "  -1.42627637e-01   5.64658800e-02  -2.60230134e-01   4.65037847e-02\n",
      "  -2.00798143e-01  -2.08126761e-01   4.70792802e-02  -1.73534979e-01\n",
      "   5.82291674e-02   1.05064444e-02  -9.22106451e-02   2.72565616e-01\n",
      "   9.72713359e-02  -3.26302914e-01  -2.89431388e-02  -3.59461641e-02\n",
      "   2.28885702e-02   4.31169895e-02   3.76737976e-02   1.19950473e-01\n",
      "  -1.83693623e-01  -9.47657739e-02   5.55240764e-02   1.07281673e-01\n",
      "   3.24692051e-03   2.34646790e-01  -3.87649999e-02  -1.03179240e-02\n",
      "   4.87331629e-01   2.23501778e-01   1.95680279e-01  -6.09603366e-01\n",
      "  -1.37531328e-01   5.78881584e-02  -3.48705517e-01  -3.63011027e-02\n",
      "   3.18567061e-04   5.73144283e-02  -1.83223819e-01  -1.56736510e-01\n",
      "   1.30876568e-01  -1.42989741e-01   2.41003168e-02   3.51231959e-02\n",
      "  -7.51880947e-02   3.13067150e-02  -3.09769559e-02  -2.23123389e-01\n",
      "   4.44778318e-01  -1.90505607e-01  -2.11867268e-02  -1.39832020e-01\n",
      "   5.72276516e-02  -2.07798143e-01   6.47474344e-01  -7.48614235e-02\n",
      "  -2.50464211e-01  -6.69267650e-01   1.97555120e-01   1.03772298e-01\n",
      "   2.93735670e-02   1.66760060e-01  -4.08619231e-02   5.60042500e-01\n",
      "   4.53308898e-02  -7.74693964e-02  -2.95662893e-02   8.75265792e-03\n",
      "  -1.36583666e-02  -3.44122989e-01   2.70216168e-01   8.56985376e-03\n",
      "  -2.34032103e-01  -3.72752186e-02  -6.34433398e-02   3.76117090e-01\n",
      "   3.92332673e-02  -4.37652624e-02  -8.08701392e-02   1.31163307e-01\n",
      "   1.83394279e-01   1.22680856e-01   6.42109584e-03  -2.03383095e-02\n",
      "   2.94915376e-02   1.14868587e-02   2.59657369e-02  -1.25052609e-02\n",
      "  -3.78848193e-02   0.00000000e+00]\n"
     ]
    }
   ],
   "source": [
    "#Display the weights\n",
    "print ('Regression Coefficients: \\n', linreg.coef_)"
   ]
  },
  {
   "cell_type": "code",
   "execution_count": 38,
   "metadata": {
    "collapsed": true
   },
   "outputs": [],
   "source": [
    "#10fold x-validation\n",
    "kf = KFold(len(x), n_folds=10)\n",
    "xval_err = 0\n",
    "for train,test in kf:\n",
    "    linreg.fit(x[train],y[train])\n",
    "    p=linreg.predict(x[test])\n",
    "    e = p-y[test]\n",
    "    xval_err += np.dot(e,e)\n",
    "    \n",
    "rmse_10cv = np.sqrt(xval_err/len(x))"
   ]
  },
  {
   "cell_type": "code",
   "execution_count": 39,
   "metadata": {},
   "outputs": [
    {
     "name": "stdout",
     "output_type": "stream",
     "text": [
      "Method: Simple Linear Regression\n",
      "RMSE on training: 0.1287\n",
      "RMSE on 10 fold CV: 0.1363\n"
     ]
    }
   ],
   "source": [
    "method = 'Simple Linear Regression'\n",
    "print ('Method: %s' %method)\n",
    "print('RMSE on training: %.4f' %rmse_train)\n",
    "print ('RMSE on 10 fold CV: %.4f' %rmse_10cv)"
   ]
  },
  {
   "cell_type": "code",
   "execution_count": 40,
   "metadata": {},
   "outputs": [
    {
     "data": {
      "text/plain": [
       "\"Feature Selection: Perform linear regression with a subset of features. \\nWrite a script/function that takes as input the training data, target attribute; the model; and any other parameters, \\nand returns optimal percentage of the most informative features to use.\\nYou can use feature_selection.SelectPercentile to find the most informative variables.\\nYour approach should use k-fold cross-validation on the training data (you can use k=5). \\nShow the list of most informative variables and their weights \\nNext, plot the model's mean absolute error values  on cross-validation relative to the percentage of selected features \\n(See scikit-learn's metrics.mean_absolute_error). \\nIn order to use cross_validation.cross_val_score with regression you'll need to pass to it:\\nscoring='mean_absolute_error' as a parameter. \\n[Hint: for an example of a similar feature selection process please review the class example notebook. \\nAlso, review scikit-learn documentation for feature selection.]\""
      ]
     },
     "execution_count": 40,
     "metadata": {},
     "output_type": "execute_result"
    }
   ],
   "source": [
    "#####################\n",
    "#Question 1c\n",
    "#####################\n",
    "'''Feature Selection: Perform linear regression with a subset of features. \n",
    "Write a script/function that takes as input the training data, target attribute; the model; and any other parameters, \n",
    "and returns optimal percentage of the most informative features to use.\n",
    "You can use feature_selection.SelectPercentile to find the most informative variables.\n",
    "Your approach should use k-fold cross-validation on the training data (you can use k=5). \n",
    "Show the list of most informative variables and their weights \n",
    "Next, plot the model's mean absolute error values  on cross-validation relative to the percentage of selected features \n",
    "(See scikit-learn's metrics.mean_absolute_error). \n",
    "In order to use cross_validation.cross_val_score with regression you'll need to pass to it:\n",
    "scoring='mean_absolute_error' as a parameter. \n",
    "[Hint: for an example of a similar feature selection process please review the class example notebook. \n",
    "Also, review scikit-learn documentation for feature selection.]'''"
   ]
  },
  {
   "cell_type": "code",
   "execution_count": 41,
   "metadata": {
    "collapsed": true
   },
   "outputs": [],
   "source": [
    "xpd = comm_.iloc[:,0:97]\n",
    "x2 = comm_records\n",
    "linreg = LinearRegression()"
   ]
  },
  {
   "cell_type": "code",
   "execution_count": 42,
   "metadata": {
    "collapsed": true
   },
   "outputs": [],
   "source": [
    "def optPercent(training):\n",
    "    percentiles = range(1, 100, 5)\n",
    "    results = []\n",
    "    fSubset = []\n",
    "    for i in range(1, 100, 5):\n",
    "        fs = feature_selection.SelectPercentile(feature_selection.f_regression, percentile=i)\n",
    "        x_train_fs = fs.fit_transform(x2, y)\n",
    "        scores = cross_validation.cross_val_score(linreg, x_train_fs, y, cv=5, scoring='mean_absolute_error')\n",
    "        results = np.append(results, scores.mean())\n",
    "\n",
    "    optimal_percentil = np.where(results == results.max())[0]\n",
    "    print (\"Optimal percentile of features:{0}\".format(percentiles[optimal_percentil]), \"\\n\")\n",
    "    optimal_num_features = int(math.floor(percentiles[optimal_percentil]*len(xpd.columns)/100))\n",
    "    print (\"Optimal number of features:{0}\".format(optimal_num_features), \"\\n\")\n",
    "\n",
    "    # Plot percentile of features VS. cross-validation scores\n",
    "    pl.figure()\n",
    "    pl.xlabel(\"Percentage of features selected\")\n",
    "    pl.ylabel(\"Cross validation accuracy\")\n",
    "    pl.plot(percentiles,results)\n",
    "\n",
    "    fsopt = feature_selection.SelectPercentile(feature_selection.f_regression, percentile = percentiles[optimal_percentil])\n",
    "    x_train_fsopt = fsopt.fit_transform(x2, y)\n",
    "    for i in range(len(training.columns.values)):\n",
    "        if fsopt.get_support()[i]:\n",
    "            #print (training.columns.values[i], '\\t', round(fsopt.scores_[i],2))\n",
    "            print (training.columns.values[i], '\\t', round(fsopt.scores_[i],2))\n",
    "            fSubset.append(i)\n",
    "    return fSubset"
   ]
  },
  {
   "cell_type": "code",
   "execution_count": 43,
   "metadata": {},
   "outputs": [
    {
     "name": "stdout",
     "output_type": "stream",
     "text": [
      "Optimal percentile of features:36 \n",
      "\n",
      "Optimal number of features:34 \n",
      "\n",
      "population \t 310.22\n",
      "racepctblack \t 1330.48\n",
      "racePctWhite \t 1766.24\n",
      "numbUrban \t 302.0\n",
      "medIncome \t 437.44\n",
      "pctWInvInc \t 991.11\n",
      "pctWPubAsst \t 985.09\n",
      "medFamInc \t 476.15\n",
      "perCapInc \t 281.89\n",
      "NumUnderPov \t 498.77\n",
      "PctPopUnderPov \t 748.35\n",
      "PctLess9thGrade \t 405.22\n",
      "PctNotHSGrad \t 607.29\n",
      "PctUnemployed \t 681.73\n",
      "MalePctDivorce \t 759.66\n",
      "FemalePctDiv \t 891.48\n",
      "TotalPctDiv \t 876.59\n",
      "PctFam2Par \t 1994.74\n",
      "PctKids2Par \t 2398.93\n",
      "PctYoungKids2Par \t 1596.53\n",
      "PctTeen2Par \t 1555.9\n",
      "NumIlleg \t 567.69\n",
      "PctIlleg \t 2399.44\n",
      "PctLargHouseFam \t 343.27\n",
      "PctPersOwnOccup \t 759.58\n",
      "PctPersDenseHous \t 513.78\n",
      "PctHousLess3BR \t 578.5\n",
      "MedNumBR \t 291.6\n",
      "HousVacant \t 429.89\n",
      "PctHousOwnOcc \t 566.62\n",
      "PctVacantBoarded \t 605.32\n",
      "PctHousNoPhone \t 623.65\n",
      "PctWOFullPlumb \t 305.41\n",
      "NumInShelters \t 327.33\n",
      "NumStreet \t 260.72\n"
     ]
    },
    {
     "name": "stderr",
     "output_type": "stream",
     "text": [
      "C:\\Users\\rebec\\Anaconda3\\lib\\site-packages\\ipykernel\\__main__.py:12: VisibleDeprecationWarning: converting an array with ndim > 0 to an index will result in an error in the future\n",
      "C:\\Users\\rebec\\Anaconda3\\lib\\site-packages\\ipykernel\\__main__.py:13: VisibleDeprecationWarning: converting an array with ndim > 0 to an index will result in an error in the future\n",
      "C:\\Users\\rebec\\Anaconda3\\lib\\site-packages\\ipykernel\\__main__.py:22: VisibleDeprecationWarning: converting an array with ndim > 0 to an index will result in an error in the future\n"
     ]
    },
    {
     "data": {
      "image/png": "[encoded data removed]",
      "text/plain": [
       "<matplotlib.figure.Figure at 0x16586c9f588>"
      ]
     },
     "metadata": {},
     "output_type": "display_data"
    }
   ],
   "source": [
    "fsub = optPercent(xpd)"
   ]
  },
  {
   "cell_type": "code",
   "execution_count": 44,
   "metadata": {
    "collapsed": true
   },
   "outputs": [],
   "source": [
    "#Perform Linear Regression with new subset of features"
   ]
  },
  {
   "cell_type": "code",
   "execution_count": 45,
   "metadata": {},
   "outputs": [
    {
     "data": {
      "text/plain": [
       "(1993, 36)"
      ]
     },
     "execution_count": 45,
     "metadata": {},
     "output_type": "execute_result"
    }
   ],
   "source": [
    "#create new X with only subset features\n",
    "newx = np.array([np.concatenate((v,[1])) for v in ((pd.DataFrame(x)[fsub]).as_matrix())])\n",
    "newx.shape"
   ]
  },
  {
   "cell_type": "code",
   "execution_count": 46,
   "metadata": {},
   "outputs": [
    {
     "name": "stdout",
     "output_type": "stream",
     "text": [
      "[ 0.01511131  0.35327475  0.04665008  0.27326871  0.01570285  0.06374773\n",
      "  0.02271172  0.11494215  0.28383273  0.03661088]\n",
      "0.134771431207\n"
     ]
    }
   ],
   "source": [
    "linreg.fit(newx,y)\n",
    "p = linreg.predict(newx)\n",
    "err = abs(p-y)\n",
    "total_error = np.dot(err,err)\n",
    "rmse_train = np.sqrt(total_error/len(p))\n",
    "print (err[:10])\n",
    "print (rmse_train)"
   ]
  },
  {
   "cell_type": "code",
   "execution_count": null,
   "metadata": {
    "collapsed": true
   },
   "outputs": [],
   "source": [
    "#################\n",
    "#Part d\n",
    "#################\n",
    "'''Perform Ridge Regression and Lasso Regression using sklearn.linear_model. \n",
    "For each, perform systematic model selection to identify optimal alpha. \n",
    "First, create a 20%-80% randomized split of the data.\n",
    "You should create a function that takes as input the data and target attribute; \n",
    "the parameter to vary and a list of its values; the model to be trained; \n",
    "and any other relevant input needed to determine the optimal value for the \n",
    "specified parameter. The model selection process should perform k-fold \n",
    "cross validation (k should be a parameter, but you can select k=5 for \n",
    "this problem). You should also plot the error values on the training and \n",
    "cross-validation splits across the specified values of the alpha parameter. \n",
    "Finally, using the best alpha value, run the model on the set-aside test data. \n",
    "Discuss your observation and conclusions. \n",
    "[Hint: for an example of a similar model selection process please review the \n",
    "class example notebook.]'''"
   ]
  },
  {
   "cell_type": "code",
   "execution_count": 47,
   "metadata": {},
   "outputs": [
    {
     "name": "stdout",
     "output_type": "stream",
     "text": [
      "(399, 97)\n",
      "(1594, 97)\n",
      "(399,)\n",
      "(1594,)\n"
     ]
    }
   ],
   "source": [
    "#uses comm_records&targets, length of 97\n",
    "from sklearn import feature_selection\n",
    "from sklearn.cross_validation import train_test_split\n",
    "x_train, x_test, y_train, y_test = train_test_split(comm_records, comm_target, test_size=0.2, random_state=35)\n",
    "\n",
    "np.set_printoptions(precision=4, linewidth=80, suppress=True)\n",
    "print (x_test.shape)\n",
    "print (x_train.shape)\n",
    "print (y_test.shape)\n",
    "print (y_train.shape)"
   ]
  },
  {
   "cell_type": "code",
   "execution_count": null,
   "metadata": {
    "collapsed": true
   },
   "outputs": [],
   "source": [
    "#Functions"
   ]
  },
  {
   "cell_type": "code",
   "execution_count": 168,
   "metadata": {
    "collapsed": true
   },
   "outputs": [],
   "source": [
    "def calc_params(X, y, clf, param_values, param_name, K):\n",
    "    \n",
    "    # Convert input to Numpy arrays\n",
    "    X = np.array(X)\n",
    "    y = np.array(y)\n",
    "\n",
    "    # initialize training and testing scores with zeros\n",
    "    train_scores = np.zeros(len(param_values))\n",
    "    test_scores = np.zeros(len(param_values))\n",
    "    \n",
    "    # iterate over the different parameter values\n",
    "    for i, param_value in enumerate(param_values):\n",
    "        print (param_name, ' = ', param_value)\n",
    "        \n",
    "        # set classifier parameters\n",
    "        clf.set_params(**{param_name:param_value})\n",
    "        \n",
    "        # initialize the K scores obtained for each fold\n",
    "        k_train_scores = np.zeros(K)\n",
    "        k_test_scores = np.zeros(K)\n",
    "        \n",
    "        # create KFold cross validation\n",
    "        cv = KFold(len(X), K, shuffle=True, random_state=0)\n",
    "        \n",
    "        # iterate over the K folds\n",
    "        for j, (train, test) in enumerate(cv):\n",
    "            # fit the classifier in the corresponding fold\n",
    "            # and obtain the corresponding accuracy scores on train and test sets\n",
    "            clf.fit([X[k] for k in train], y[train])\n",
    "            k_train_scores[j] = clf.score([X[k] for k in train], y[train])\n",
    "            k_test_scores[j] = clf.score([X[k] for k in test], y[test])\n",
    "            \n",
    "        # store the mean of the K fold scores\n",
    "        train_scores[i] = np.mean(k_train_scores)\n",
    "        test_scores[i] = np.mean(k_test_scores)\n",
    "       \n",
    "    # plot the training and testing scores in a log scale\n",
    "    plt.plot(param_values, train_scores, label='Train', alpha=0.4, lw=2, c='b')\n",
    "    plt.plot(param_values, test_scores, label='X-Val', alpha=0.4, lw=2, c='g')\n",
    "    plt.legend(loc=7)\n",
    "    plt.xlabel(param_name + \" values\")\n",
    "    plt.ylabel(\"Mean cross validation accuracy\")\n",
    "\n",
    "    # return the training and testing scores on each parameter value\n",
    "    return train_scores, test_scores"
   ]
  },
  {
   "cell_type": "code",
   "execution_count": 124,
   "metadata": {
    "collapsed": true
   },
   "outputs": [],
   "source": [
    "def regularizedReg(records, target, alphaValues, model, k):\n",
    "    print('alpha\\t RMSE_train\\t RMSE_10cv\\n')\n",
    "    t_rmse = np.array([])\n",
    "    cv_rmse = np.array([])\n",
    "    rmseInit = 1\n",
    "    cvInit = 1\n",
    "\n",
    "    for a in alphaValues:\n",
    "        m = model(fit_intercept=True, alpha=a)\n",
    "        # computing the RMSE on training data\n",
    "        m.fit(records,target)\n",
    "        p = m.predict(records)\n",
    "        err = p-target\n",
    "        total_error = np.dot(err,err)\n",
    "        rmse_train = np.sqrt(total_error/len(p))\n",
    "        if rmse_train < rmseInit:\n",
    "            rmseInit = rmse_train\n",
    "            tmin = a\n",
    "            \n",
    "        # computing RMSE using 10-fold cross validation\n",
    "        kf = KFold(len(records), n_folds=10)\n",
    "        xval_err = 0\n",
    "        for train, test in kf:\n",
    "            m.fit(records[train], target[train])\n",
    "            p = m.predict(records[test])\n",
    "            err = p - target[test]\n",
    "            xval_err += np.dot(err,err)\n",
    "        rmse_10cv = np.sqrt(xval_err/len(records))\n",
    "        if rmse_10cv < cvInit:\n",
    "            cvInit = rmse_10cv\n",
    "            cvmin = a\n",
    "\n",
    "        t_rmse = np.append(t_rmse, [rmse_train])\n",
    "        cv_rmse = np.append(cv_rmse, [rmse_10cv])\n",
    "        print('{:.3f}\\t {:.4f}\\t\\t {:.4f}'.format(a,rmse_train,rmse_10cv))\n",
    "    print('Lowest RMSE_train Alpha: {}'.format(tmin))\n",
    "    print('Lowest RMSE_10cv Alpha: {}'.format(cvmin))\n",
    "        \n",
    "    #plot\n",
    "    print('\\n \\n RMSE-Train and Xval Over Range of Alphas')\n",
    "    pl.plot(alphaValues, t_rmse, label='RMSE-Train')\n",
    "    pl.plot(alphaValues, cv_rmse, label='RMSE_XVal')\n",
    "    pl.legend( ('RMSE-Train', 'RMSE_XVal') )\n",
    "    pl.ylabel('RMSE')\n",
    "    pl.xlabel('Alpha')\n",
    "    pl.show()\n",
    "    return tmin, cvmin"
   ]
  },
  {
   "cell_type": "code",
   "execution_count": null,
   "metadata": {
    "collapsed": true
   },
   "outputs": [],
   "source": [
    "#Necessary variable creation"
   ]
  },
  {
   "cell_type": "code",
   "execution_count": 113,
   "metadata": {
    "collapsed": true
   },
   "outputs": [],
   "source": [
    "alphalst = np.linspace(.005,5,15)\n",
    "#alphalst = np.array([int(e) for e in alphalst])"
   ]
  },
  {
   "cell_type": "code",
   "execution_count": 114,
   "metadata": {},
   "outputs": [
    {
     "data": {
      "text/plain": [
       "array([ 0.005 ,  0.3618,  0.7186,  1.0754,  1.4321,  1.7889,  2.1457,  2.5025,\n",
       "        2.8593,  3.2161,  3.5729,  3.9296,  4.2864,  4.6432,  5.    ])"
      ]
     },
     "execution_count": 114,
     "metadata": {},
     "output_type": "execute_result"
    }
   ],
   "source": [
    "alphalst"
   ]
  },
  {
   "cell_type": "code",
   "execution_count": 115,
   "metadata": {
    "collapsed": true
   },
   "outputs": [],
   "source": [
    "ridge = Ridge()\n",
    "lasso = Lasso()"
   ]
  },
  {
   "cell_type": "code",
   "execution_count": null,
   "metadata": {
    "collapsed": true
   },
   "outputs": [],
   "source": [
    "#Run Functions"
   ]
  },
  {
   "cell_type": "code",
   "execution_count": 116,
   "metadata": {},
   "outputs": [
    {
     "name": "stdout",
     "output_type": "stream",
     "text": [
      "alpha  =  0.005\n",
      "alpha  =  0.361785714286\n",
      "alpha  =  0.718571428571\n",
      "alpha  =  1.07535714286\n",
      "alpha  =  1.43214285714\n",
      "alpha  =  1.78892857143\n",
      "alpha  =  2.14571428571\n",
      "alpha  =  2.5025\n",
      "alpha  =  2.85928571429\n",
      "alpha  =  3.21607142857\n",
      "alpha  =  3.57285714286\n",
      "alpha  =  3.92964285714\n",
      "alpha  =  4.28642857143\n",
      "alpha  =  4.64321428571\n",
      "alpha  =  5.0\n"
     ]
    },
    {
     "data": {
      "image/png": "[encoded data removed]",
      "text/plain": [
       "<matplotlib.figure.Figure at 0x165873249e8>"
      ]
     },
     "metadata": {},
     "output_type": "display_data"
    }
   ],
   "source": [
    "train_scores, test_scores = calc_params(x_train, y_train, ridge, alphalst, 'alpha', 5)"
   ]
  },
  {
   "cell_type": "code",
   "execution_count": null,
   "metadata": {
    "collapsed": true
   },
   "outputs": [],
   "source": [
    "#RIDGE REGRESSION"
   ]
  },
  {
   "cell_type": "code",
   "execution_count": 125,
   "metadata": {},
   "outputs": [
    {
     "name": "stdout",
     "output_type": "stream",
     "text": [
      "alpha\t RMSE_train\t RMSE_10cv\n",
      "\n",
      "0.005\t 0.1314\t\t 0.1408\n",
      "0.362\t 0.1320\t\t 0.1400\n",
      "0.719\t 0.1324\t\t 0.1398\n",
      "1.075\t 0.1328\t\t 0.1397\n",
      "1.432\t 0.1330\t\t 0.1397\n",
      "1.789\t 0.1333\t\t 0.1397\n",
      "2.146\t 0.1335\t\t 0.1397\n",
      "2.502\t 0.1337\t\t 0.1398\n",
      "2.859\t 0.1339\t\t 0.1398\n",
      "3.216\t 0.1341\t\t 0.1398\n",
      "3.573\t 0.1343\t\t 0.1398\n",
      "3.930\t 0.1344\t\t 0.1399\n",
      "4.286\t 0.1346\t\t 0.1399\n",
      "4.643\t 0.1347\t\t 0.1400\n",
      "5.000\t 0.1348\t\t 0.1400\n",
      "Lowest RMSE_train Alpha: 0.005\n",
      "Lowest RMSE_10cv Alpha: 1.4321428571428572\n",
      "\n",
      " \n",
      " RMSE-Train and Xval Over Range of Alphas\n"
     ]
    },
    {
     "data": {
      "image/png": "[encoded data removed]",
      "text/plain": [
       "<matplotlib.figure.Figure at 0x1658936a7b8>"
      ]
     },
     "metadata": {},
     "output_type": "display_data"
    }
   ],
   "source": [
    "trainRidgeA, cvRidgeA = regularizedReg(x_train, y_train, alphalst, Ridge, 5)"
   ]
  },
  {
   "cell_type": "code",
   "execution_count": 129,
   "metadata": {},
   "outputs": [
    {
     "name": "stdout",
     "output_type": "stream",
     "text": [
      "alpha\t RMSE_train\t RMSE_10cv\n",
      "\n",
      "0.005\t 0.1478\t\t 0.1491\n",
      "0.362\t 0.2379\t\t 0.2383\n",
      "0.719\t 0.2379\t\t 0.2383\n",
      "1.075\t 0.2379\t\t 0.2383\n",
      "1.432\t 0.2379\t\t 0.2383\n",
      "1.789\t 0.2379\t\t 0.2383\n",
      "2.146\t 0.2379\t\t 0.2383\n",
      "2.502\t 0.2379\t\t 0.2383\n",
      "2.859\t 0.2379\t\t 0.2383\n",
      "3.216\t 0.2379\t\t 0.2383\n",
      "3.573\t 0.2379\t\t 0.2383\n",
      "3.930\t 0.2379\t\t 0.2383\n",
      "4.286\t 0.2379\t\t 0.2383\n",
      "4.643\t 0.2379\t\t 0.2383\n",
      "5.000\t 0.2379\t\t 0.2383\n",
      "Lowest RMSE_train Alpha: 0.005\n",
      "Lowest RMSE_10cv Alpha: 0.005\n",
      "\n",
      " \n",
      " RMSE-Train and Xval Over Range of Alphas\n"
     ]
    },
    {
     "data": {
      "image/png": "[encoded data removed]",
      "text/plain": [
       "<matplotlib.figure.Figure at 0x165872a5e48>"
      ]
     },
     "metadata": {},
     "output_type": "display_data"
    }
   ],
   "source": [
    "trainLassoA, cvLassoA = regularizedReg(x_train, y_train, alphalst, Lasso, 5)"
   ]
  },
  {
   "cell_type": "code",
   "execution_count": null,
   "metadata": {
    "collapsed": true
   },
   "outputs": [],
   "source": [
    "#Run with optimal alpha"
   ]
  },
  {
   "cell_type": "code",
   "execution_count": 132,
   "metadata": {},
   "outputs": [
    {
     "name": "stdout",
     "output_type": "stream",
     "text": [
      "Method: Ridge Regression\n",
      "RMSE on training: 0.1012\n",
      "RMSE on 10-fold CV: 0.0606\n"
     ]
    }
   ],
   "source": [
    "ridge = Ridge(fit_intercept=True, alpha=trainRidgeA)\n",
    "ridge.fit(x_test,y_test)\n",
    "# Compute RMSE on training data\n",
    "# p = np.array([ridge.predict(xi) for xi in x])\n",
    "p = ridge.predict(x_test)\n",
    "err = p-y_test\n",
    "total_error = np.dot(err,err)\n",
    "rmse_train = np.sqrt(total_error/len(p))\n",
    "\n",
    "# Compute RMSE using 10-fold x-validation\n",
    "kf = KFold(len(x_test), n_folds=10)\n",
    "xval_err = 0\n",
    "for train,test in kf:\n",
    "    ridge.fit(x_test[train],y_test[train])\n",
    "    p = ridge.predict(x_test[test])\n",
    "    e = p-y_test[test]\n",
    "    xval_err += np.dot(e,e)\n",
    "rmse_10cv = np.sqrt(xval_err/len(x))\n",
    "\n",
    "method_name = 'Ridge Regression'\n",
    "print('Method: %s' %method_name)\n",
    "print('RMSE on training: %.4f' %rmse_train)\n",
    "print('RMSE on 10-fold CV: %.4f' %rmse_10cv)"
   ]
  },
  {
   "cell_type": "code",
   "execution_count": 133,
   "metadata": {},
   "outputs": [
    {
     "name": "stdout",
     "output_type": "stream",
     "text": [
      "Method: Ridge Regression\n",
      "RMSE on training: 0.1091\n",
      "RMSE on 10-fold CV: 0.0566\n"
     ]
    }
   ],
   "source": [
    "ridge = Ridge(fit_intercept=True, alpha=cvRidgeA)\n",
    "ridge.fit(x_test,y_test)\n",
    "# Compute RMSE on training data\n",
    "# p = np.array([ridge.predict(xi) for xi in x])\n",
    "p = ridge.predict(x_test)\n",
    "err = p-y_test\n",
    "total_error = np.dot(err,err)\n",
    "rmse_train = np.sqrt(total_error/len(p))\n",
    "\n",
    "# Compute RMSE using 10-fold x-validation\n",
    "kf = KFold(len(x_test), n_folds=10)\n",
    "xval_err = 0\n",
    "for train,test in kf:\n",
    "    ridge.fit(x_test[train],y_test[train])\n",
    "    p = ridge.predict(x_test[test])\n",
    "    e = p-y_test[test]\n",
    "    xval_err += np.dot(e,e)\n",
    "rmse_10cv = np.sqrt(xval_err/len(x))\n",
    "\n",
    "method_name = 'Ridge Regression'\n",
    "print('Method: %s' %method_name)\n",
    "print('RMSE on training: %.4f' %rmse_train)\n",
    "print('RMSE on 10-fold CV: %.4f' %rmse_10cv)"
   ]
  },
  {
   "cell_type": "code",
   "execution_count": 135,
   "metadata": {},
   "outputs": [
    {
     "name": "stdout",
     "output_type": "stream",
     "text": [
      "Method: Ridge Regression\n",
      "RMSE on training: 0.1286\n",
      "RMSE on 10-fold CV: 0.0588\n"
     ]
    }
   ],
   "source": [
    "lasso = Lasso(fit_intercept=True, alpha=trainRidgeA)\n",
    "lasso.fit(x_test,y_test)\n",
    "# Compute RMSE on training data\n",
    "# p = np.array([ridge.predict(xi) for xi in x])\n",
    "p = lasso.predict(x_test)\n",
    "err = p-y_test\n",
    "total_error = np.dot(err,err)\n",
    "rmse_train = np.sqrt(total_error/len(p))\n",
    "\n",
    "# Compute RMSE using 10-fold x-validation\n",
    "kf = KFold(len(x_test), n_folds=10)\n",
    "xval_err = 0\n",
    "for train,test in kf:\n",
    "    lasso.fit(x_test[train],y_test[train])\n",
    "    p = lasso.predict(x_test[test])\n",
    "    e = p-y_test[test]\n",
    "    xval_err += np.dot(e,e)\n",
    "rmse_10cv = np.sqrt(xval_err/len(x))\n",
    "\n",
    "method_name = 'Ridge Regression'\n",
    "print('Method: %s' %method_name)\n",
    "print('RMSE on training: %.4f' %rmse_train)\n",
    "print('RMSE on 10-fold CV: %.4f' %rmse_10cv)"
   ]
  },
  {
   "cell_type": "code",
   "execution_count": 134,
   "metadata": {},
   "outputs": [
    {
     "name": "stdout",
     "output_type": "stream",
     "text": [
      "Method: Ridge Regression\n",
      "RMSE on training: 0.2113\n",
      "RMSE on 10-fold CV: 0.0946\n"
     ]
    }
   ],
   "source": [
    "lasso = Lasso(fit_intercept=True, alpha=cvRidgeA)\n",
    "lasso.fit(x_test,y_test)\n",
    "# Compute RMSE on training data\n",
    "# p = np.array([ridge.predict(xi) for xi in x])\n",
    "p = lasso.predict(x_test)\n",
    "err = p-y_test\n",
    "total_error = np.dot(err,err)\n",
    "rmse_train = np.sqrt(total_error/len(p))\n",
    "\n",
    "# Compute RMSE using 10-fold x-validation\n",
    "kf = KFold(len(x_test), n_folds=10)\n",
    "xval_err = 0\n",
    "for train,test in kf:\n",
    "    lasso.fit(x_test[train],y_test[train])\n",
    "    p = lasso.predict(x_test[test])\n",
    "    e = p-y_test[test]\n",
    "    xval_err += np.dot(e,e)\n",
    "rmse_10cv = np.sqrt(xval_err/len(x))\n",
    "\n",
    "method_name = 'Ridge Regression'\n",
    "print('Method: %s' %method_name)\n",
    "print('RMSE on training: %.4f' %rmse_train)\n",
    "print('RMSE on 10-fold CV: %.4f' %rmse_10cv)"
   ]
  },
  {
   "cell_type": "code",
   "execution_count": null,
   "metadata": {
    "collapsed": true
   },
   "outputs": [],
   "source": [
    "#################\n",
    "#Part e\n",
    "#################\n",
    "'''Perform regression using Stochastic Gradient Descent for regression. \n",
    "Use the SGDRegessor module from sklearn.linear_model. \n",
    "Start with creating randomized 80%-20% train-test split. \n",
    "SGDRegessor requires that features be standardized (with 0 mean and scaled by sd). \n",
    "Perform the scaling using StandardScaler from sklearn.preprocessing. \n",
    "For this problem, perform a grid search (using GridSearchCV from sklearn.grid_search) \n",
    "Your grid search should compare combinations of two penalty parameters ('l2', 'l1') \n",
    "and different values of alpha (vary from 0.0001 to relatively large values). \n",
    "Using the best parameters, apply the model to the set-aside test data. \n",
    "Finally, perform model selection (similar to part d, above) to find the \n",
    "best \"l1_ratio\" parameter using SGDRegressor with  the \"elasticnet\" penalty \n",
    "parameter. [Note: \"l1_ratio\" is The Elastic Net mixing parameter, \n",
    "with 0 <= l1_ratio <= 1;  l1_ratio=0 corresponds to L2 penalty, \n",
    "l1_ratio=1 to L1 penalty; defaults to 0.15.] Using the best mixing ratio, \n",
    "apply the Elastic Net model to the set-aside test data. Provide a summary of \n",
    "your findings from the above experiments'''"
   ]
  },
  {
   "cell_type": "code",
   "execution_count": 164,
   "metadata": {},
   "outputs": [
    {
     "name": "stderr",
     "output_type": "stream",
     "text": [
      "C:\\Users\\rebec\\Anaconda3\\lib\\site-packages\\sklearn\\preprocessing\\data.py:583: DeprecationWarning: Passing 1d arrays as data is deprecated in 0.17 and will raise ValueError in 0.19. Reshape your data either using X.reshape(-1, 1) if your data has a single feature or X.reshape(1, -1) if it contains a single sample.\n",
      "  warnings.warn(DEPRECATION_MSG_1D, DeprecationWarning)\n",
      "C:\\Users\\rebec\\Anaconda3\\lib\\site-packages\\sklearn\\preprocessing\\data.py:646: DeprecationWarning: Passing 1d arrays as data is deprecated in 0.17 and will raise ValueError in 0.19. Reshape your data either using X.reshape(-1, 1) if your data has a single feature or X.reshape(1, -1) if it contains a single sample.\n",
      "  warnings.warn(DEPRECATION_MSG_1D, DeprecationWarning)\n"
     ]
    }
   ],
   "source": [
    "from sklearn.preprocessing import StandardScaler\n",
    "scaler = StandardScaler()\n",
    "scaler.fit(comm_records)\n",
    "AllX_s = scaler.transform(comm_records)\n",
    "scaler.fit(comm_target)\n",
    "AllY_s = scaler.transform(comm_target)"
   ]
  },
  {
   "cell_type": "code",
   "execution_count": 165,
   "metadata": {},
   "outputs": [
    {
     "name": "stdout",
     "output_type": "stream",
     "text": [
      "(399, 97)\n",
      "(1594, 97)\n",
      "(399,)\n",
      "(1594,)\n"
     ]
    }
   ],
   "source": [
    "#Split 80/20\n",
    "from sklearn import feature_selection\n",
    "from sklearn.cross_validation import train_test_split\n",
    "x_train_s, x_test_s, y_train_s, y_test_s = train_test_split(AllX_s, AllY_s, test_size=0.2, random_state=35)\n",
    "\n",
    "np.set_printoptions(precision=4, linewidth=80, suppress=True)\n",
    "print (x_test_s.shape)\n",
    "print (x_train_s.shape)\n",
    "print (y_test_s.shape)\n",
    "print (y_train_s.shape)"
   ]
  },
  {
   "cell_type": "code",
   "execution_count": 166,
   "metadata": {
    "collapsed": true
   },
   "outputs": [],
   "source": [
    "#Gridsearch\n",
    "from sklearn.grid_search import GridSearchCV\n",
    "\n",
    "sgdreg = SGDRegressor()\n",
    "\n",
    "parameters = {\n",
    "    'penalty':['l2','l1'],\n",
    "    'alpha':np.linspace(.0001,1,25)\n",
    "}\n",
    "\n",
    "gs = GridSearchCV(sgdreg, parameters, verbose=1, cv=5)"
   ]
  },
  {
   "cell_type": "code",
   "execution_count": 167,
   "metadata": {},
   "outputs": [
    {
     "name": "stdout",
     "output_type": "stream",
     "text": [
      "Fitting 5 folds for each of 50 candidates, totalling 250 fits\n"
     ]
    },
    {
     "name": "stderr",
     "output_type": "stream",
     "text": [
      "[Parallel(n_jobs=1)]: Done  49 tasks       | elapsed:    0.4s\n",
      "[Parallel(n_jobs=1)]: Done 199 tasks       | elapsed:    1.5s\n"
     ]
    },
    {
     "name": "stdout",
     "output_type": "stream",
     "text": [
      "Wall time: 1.99 s\n"
     ]
    },
    {
     "name": "stderr",
     "output_type": "stream",
     "text": [
      "[Parallel(n_jobs=1)]: Done 250 out of 250 | elapsed:    1.9s finished\n"
     ]
    },
    {
     "data": {
      "text/plain": [
       "({'alpha': 0.083424999999999999, 'penalty': 'l2'}, 0.63970496786677222)"
      ]
     },
     "execution_count": 167,
     "metadata": {},
     "output_type": "execute_result"
    }
   ],
   "source": [
    "%time _ = gs.fit(x_train_s, y_train_s)\n",
    "\n",
    "gs.best_params_, gs.best_score_"
   ]
  },
  {
   "cell_type": "code",
   "execution_count": null,
   "metadata": {
    "collapsed": true
   },
   "outputs": [],
   "source": []
  },
  {
   "cell_type": "code",
   "execution_count": 163,
   "metadata": {},
   "outputs": [
    {
     "name": "stdout",
     "output_type": "stream",
     "text": [
      "Method: Stochastic Gradient Descent Regression\n",
      "RMSE on training: 0.4658\n",
      "RMSE on 10-fold CV: 0.2463\n"
     ]
    }
   ],
   "source": [
    "sgdreg = SGDRegressor(penalty='l2', alpha=0.083, n_iter=200)\n",
    "\n",
    "# Compute RMSE on training data\n",
    "sgdreg.fit(x_test_s,y_test_s)\n",
    "p = sgdreg.predict(x_test_s)\n",
    "err = p-y_test_s\n",
    "total_error = np.dot(err,err)\n",
    "rmse_train = np.sqrt(total_error/len(p))\n",
    "\n",
    "# Compute RMSE using 10-fold x-validation\n",
    "kf = KFold(len(x_test_s), n_folds=10)\n",
    "xval_err = 0\n",
    "for train,test in kf:\n",
    "    scaler = StandardScaler()\n",
    "    scaler.fit(x_test_s[train])\n",
    "    xtrain_s = scaler.transform(x_test_s[train])\n",
    "    xtest_s = scaler.transform(x_test_s[test])\n",
    "    sgdreg.fit(xtrain_s,y_test_s[train])\n",
    "    p = sgdreg.predict(xtest_s)\n",
    "    e = p-y_test_s[test]\n",
    "    xval_err += np.dot(e,e)\n",
    "rmse_10cv = np.sqrt(xval_err/len(x))\n",
    "\n",
    "method_name = 'Stochastic Gradient Descent Regression'\n",
    "print('Method: %s' %method_name)\n",
    "print('RMSE on training: %.4f' %rmse_train)\n",
    "print('RMSE on 10-fold CV: %.4f' %rmse_10cv)"
   ]
  },
  {
   "cell_type": "code",
   "execution_count": null,
   "metadata": {
    "collapsed": true
   },
   "outputs": [],
   "source": [
    "#elastic net"
   ]
  },
  {
   "cell_type": "code",
   "execution_count": 169,
   "metadata": {
    "collapsed": true
   },
   "outputs": [],
   "source": [
    "md = np.linspace(0,1,20)"
   ]
  },
  {
   "cell_type": "code",
   "execution_count": 170,
   "metadata": {},
   "outputs": [
    {
     "name": "stdout",
     "output_type": "stream",
     "text": [
      "l1_ratio  =  0.0\n",
      "l1_ratio  =  0.0526315789474\n",
      "l1_ratio  =  0.105263157895\n",
      "l1_ratio  =  0.157894736842\n",
      "l1_ratio  =  0.210526315789\n",
      "l1_ratio  =  0.263157894737\n",
      "l1_ratio  =  0.315789473684\n",
      "l1_ratio  =  0.368421052632\n",
      "l1_ratio  =  0.421052631579\n",
      "l1_ratio  =  0.473684210526\n",
      "l1_ratio  =  0.526315789474\n",
      "l1_ratio  =  0.578947368421\n",
      "l1_ratio  =  0.631578947368\n",
      "l1_ratio  =  0.684210526316\n",
      "l1_ratio  =  0.736842105263\n",
      "l1_ratio  =  0.789473684211\n",
      "l1_ratio  =  0.842105263158\n",
      "l1_ratio  =  0.894736842105\n",
      "l1_ratio  =  0.947368421053\n",
      "l1_ratio  =  1.0\n"
     ]
    },
    {
     "data": {
      "image/png": "[encoded data removed]",
      "text/plain": [
       "<matplotlib.figure.Figure at 0x16587268fd0>"
      ]
     },
     "metadata": {},
     "output_type": "display_data"
    }
   ],
   "source": [
    "train_scores, test_scores = calc_params(x_train_s, y_train_s, sgdreg, md, 'l1_ratio', 5)"
   ]
  },
  {
   "cell_type": "code",
   "execution_count": 172,
   "metadata": {},
   "outputs": [
    {
     "name": "stdout",
     "output_type": "stream",
     "text": [
      "Method: Stochastic Gradient Descent Regression\n",
      "RMSE on training: 0.5120\n",
      "RMSE on 10-fold CV: 0.2400\n"
     ]
    }
   ],
   "source": [
    "sgdreg = SGDRegressor(penalty='elasticnet', l1_ratio=.5789, alpha=0.083, n_iter=200)\n",
    "\n",
    "# Compute RMSE on training data\n",
    "sgdreg.fit(x_test_s,y_test_s)\n",
    "p = sgdreg.predict(x_test_s)\n",
    "err = p-y_test_s\n",
    "total_error = np.dot(err,err)\n",
    "rmse_train = np.sqrt(total_error/len(p))\n",
    "\n",
    "# Compute RMSE using 10-fold x-validation\n",
    "kf = KFold(len(x_test_s), n_folds=10)\n",
    "xval_err = 0\n",
    "for train,test in kf:\n",
    "    scaler = StandardScaler()\n",
    "    scaler.fit(x_test_s[train])\n",
    "    xtrain_s = scaler.transform(x_test_s[train])\n",
    "    xtest_s = scaler.transform(x_test_s[test])\n",
    "    sgdreg.fit(xtrain_s,y_test_s[train])\n",
    "    p = sgdreg.predict(xtest_s)\n",
    "    e = p-y_test_s[test]\n",
    "    xval_err += np.dot(e,e)\n",
    "rmse_10cv = np.sqrt(xval_err/len(x))\n",
    "\n",
    "method_name = 'Stochastic Gradient Descent Regression'\n",
    "print('Method: %s' %method_name)\n",
    "print('RMSE on training: %.4f' %rmse_train)\n",
    "print('RMSE on 10-fold CV: %.4f' %rmse_10cv)"
   ]
  }
 ],
 "metadata": {
  "anaconda-cloud": {},
  "kernelspec": {
   "display_name": "Python [conda root]",
   "language": "python",
   "name": "conda-root-py"
  },
  "language_info": {
   "codemirror_mode": {
    "name": "ipython",
    "version": 3
   },
   "file_extension": ".py",
   "mimetype": "text/x-python",
   "name": "python",
   "nbconvert_exporter": "python",
   "pygments_lexer": "ipython3",
   "version": "3.5.2"
  }
 },
 "nbformat": 4,
 "nbformat_minor": 1
}
